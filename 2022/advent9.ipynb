{
 "cells": [
  {
   "cell_type": "code",
   "execution_count": null,
   "id": "9c150a21",
   "metadata": {},
   "outputs": [],
   "source": [
    "file1 = open('input9', 'r')\n",
    "data = []\n",
    "lines = file1.readlines()"
   ]
  },
  {
   "cell_type": "code",
   "execution_count": null,
   "id": "96d4ab3a",
   "metadata": {},
   "outputs": [],
   "source": [
    "for line in lines:\n",
    "    print(int(line[2:])    )"
   ]
  },
  {
   "cell_type": "code",
   "execution_count": null,
   "id": "2da7022b",
   "metadata": {},
   "outputs": [],
   "source": [
    "def catchTail(head, tail):    \n",
    "    if head[0] == tail[0]: #same column\n",
    "        if head[1]-2 >= tail[1]:\n",
    "            tail[1] += 1\n",
    "        if head[1]+2 <= tail[1]:\n",
    "            tail[1] -= 1        \n",
    "    elif head[1] == tail[1]: #same row\n",
    "        if head[0]-2 >= tail[0]:\n",
    "            tail[0] += 1\n",
    "        if head[0]+2 <= tail[0]:\n",
    "            tail[0] -= 1    \n",
    "    elif abs(head[0] - tail[0]) == 1 and abs(head[1] - tail[1]) == 1: #diagonaly touching\n",
    "        return\n",
    "    else: #diagonal\n",
    "        if head[0] > tail[0]:\n",
    "            tail[0] += 1\n",
    "        else:\n",
    "            tail[0] -= 1\n",
    "        if head[1] > tail[1]:\n",
    "            tail[1] += 1\n",
    "        else:\n",
    "            tail[1] -= 1            "
   ]
  },
  {
   "cell_type": "code",
   "execution_count": null,
   "id": "46c0b5c8",
   "metadata": {},
   "outputs": [],
   "source": [
    "def move(direction, steps):\n",
    "    for i in range(steps):\n",
    "        if direction == 'R':\n",
    "            head[0] += 1\n",
    "        if direction == 'L':\n",
    "            head[0] -= 1            \n",
    "        if direction == 'U':\n",
    "            head[1] += 1            \n",
    "        if direction == 'D':\n",
    "            head[1] -= 1              \n",
    "        catchTail(head, tail1)\n",
    "        catchTail(tail1, tail2)        \n",
    "        catchTail(tail2, tail3)        \n",
    "        catchTail(tail3, tail4)\n",
    "        catchTail(tail4, tail5)\n",
    "        catchTail(tail5, tail6)\n",
    "        catchTail(tail6, tail7)\n",
    "        catchTail(tail7, tail8)\n",
    "        catchTail(tail8, tail9)\n",
    "        visited.add((tail9[0], tail9[1]))\n",
    "        #print(\"Head: \" + str(head) + \" Tail: \" + str(tail)) "
   ]
  },
  {
   "cell_type": "code",
   "execution_count": null,
   "id": "cb27dd1d",
   "metadata": {},
   "outputs": [],
   "source": [
    "head = [0, 0]\n",
    "tail1 = [0, 0]\n",
    "tail2 = [0, 0]\n",
    "tail3 = [0, 0]\n",
    "tail4 = [0, 0]\n",
    "tail5 = [0, 0]\n",
    "tail6 = [0, 0]\n",
    "tail7 = [0, 0]\n",
    "tail8 = [0, 0]\n",
    "tail9 = [0, 0]\n",
    "visited = set()\n",
    "visited.add((tail9[0], tail9[1]))\n",
    "for line in lines:\n",
    "    direction = line[0]\n",
    "    move(direction, int(line[2:])) \n",
    "len(visited)"
   ]
  },
  {
   "cell_type": "code",
   "execution_count": null,
   "id": "cbb8772f",
   "metadata": {},
   "outputs": [],
   "source": [
    "len(visited)"
   ]
  }
 ],
 "metadata": {
  "kernelspec": {
   "display_name": "Python 3 (ipykernel)",
   "language": "python",
   "name": "python3"
  },
  "language_info": {
   "codemirror_mode": {
    "name": "ipython",
    "version": 3
   },
   "file_extension": ".py",
   "mimetype": "text/x-python",
   "name": "python",
   "nbconvert_exporter": "python",
   "pygments_lexer": "ipython3",
   "version": "3.9.6"
  }
 },
 "nbformat": 4,
 "nbformat_minor": 5
}

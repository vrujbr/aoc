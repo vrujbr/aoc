{
 "cells": [
  {
   "cell_type": "code",
   "execution_count": 290,
   "id": "fefc46b8",
   "metadata": {},
   "outputs": [],
   "source": [
    "file = open('input25', 'r')\n",
    "lines = file.read().splitlines()"
   ]
  },
  {
   "cell_type": "code",
   "execution_count": 291,
   "id": "5c8f6ab6",
   "metadata": {},
   "outputs": [],
   "source": [
    "def fromSnafu(snafu):\n",
    "    result = 0\n",
    "    for i, char in enumerate(snafu):\n",
    "        exp = len(snafu) - i - 1\n",
    "        snafuDigitValue = [\"=\", \"-\", \"0\", \"1\", \"2\"].index(char) - 2\n",
    "        result += snafuDigitValue * pow(5, exp)         \n",
    "    return result"
   ]
  },
  {
   "cell_type": "code",
   "execution_count": 292,
   "id": "ab072573",
   "metadata": {},
   "outputs": [
    {
     "name": "stdout",
     "output_type": "stream",
     "text": [
      "35593435781062\n"
     ]
    }
   ],
   "source": [
    "total = 0\n",
    "for line in lines:\n",
    "    total += fromSnafu(line)\n",
    "print(total)"
   ]
  },
  {
   "cell_type": "code",
   "execution_count": 293,
   "id": "75ac01bc",
   "metadata": {},
   "outputs": [
    {
     "name": "stdout",
     "output_type": "stream",
     "text": [
      "2-2=12=1-=-1=000=222\n"
     ]
    }
   ],
   "source": [
    "def toSnafuDigit(number, exponent):    \n",
    "    base = pow(5, exponent)\n",
    "    if number > int(base *2.5):\n",
    "        return None\n",
    "    if number > int(base *1.5):\n",
    "        return (\"2\", number - 2*base)\n",
    "    if number > int(base *0.5):\n",
    "        return (\"1\", number - base)\n",
    "    if number >= int(base * -0.5):\n",
    "        return (\"0\", number)\n",
    "    if number >= int(base * -1.5):\n",
    "        return (\"-\", number + base)\n",
    "    if number >= int(base * -2.5):\n",
    "        return (\"=\", number + 2*base)\n",
    "    return None\n",
    "\n",
    "number = 35593435781062\n",
    "exponent = 0\n",
    "while toSnafuDigit(number, exponent) == None:\n",
    "    exponent += 1\n",
    "exponent += 1\n",
    "\n",
    "snafuNumber = \"\"\n",
    "for i in range(exponent):\n",
    "    (snafuDigit, number) = toSnafuDigit(number, exponent - i -1)\n",
    "    snafuNumber += snafuDigit\n",
    "print(snafuNumber)"
   ]
  }
 ],
 "metadata": {
  "kernelspec": {
   "display_name": "Python 3 (ipykernel)",
   "language": "python",
   "name": "python3"
  },
  "language_info": {
   "codemirror_mode": {
    "name": "ipython",
    "version": 3
   },
   "file_extension": ".py",
   "mimetype": "text/x-python",
   "name": "python",
   "nbconvert_exporter": "python",
   "pygments_lexer": "ipython3",
   "version": "3.9.6"
  }
 },
 "nbformat": 4,
 "nbformat_minor": 5
}

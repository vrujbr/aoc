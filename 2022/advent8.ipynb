{
 "cells": [
  {
   "cell_type": "code",
   "execution_count": null,
   "id": "0576ef73",
   "metadata": {},
   "outputs": [],
   "source": [
    "file1 = open('input8', 'r')\n",
    "data = []\n",
    "for line in file1.readlines():\n",
    "    lineData = []\n",
    "    for char in line[:-1]:\n",
    "        lineData.append([int(char), False])\n",
    "    data.append(lineData)\n",
    "data"
   ]
  },
  {
   "cell_type": "code",
   "execution_count": null,
   "id": "853548a6",
   "metadata": {},
   "outputs": [],
   "source": [
    "def determineVisibility(dataPoint, maxHeight, visibleTrees):\n",
    "    if dataPoint[0] > maxHeight:    \n",
    "        if not dataPoint[1]:\n",
    "            visibleTrees += 1\n",
    "            dataPoint[1] = True\n",
    "        maxHeight = dataPoint[0]\n",
    "        return [maxHeight, visibleTrees]\n",
    "    else:\n",
    "        return [maxHeight, visibleTrees]"
   ]
  },
  {
   "cell_type": "code",
   "execution_count": null,
   "id": "11b33010",
   "metadata": {},
   "outputs": [],
   "source": [
    "visibleTrees = 0\n",
    "for i in range(len(data)):  \n",
    "    maxHeight = -1\n",
    "    for j in range(len(data)):\n",
    "        [maxHeight, visibleTrees] = determineVisibility(data[i][j], maxHeight, visibleTrees)         \n",
    "for i in range(len(data)):     \n",
    "    maxHeight = -1      \n",
    "    for j in range(len(data)):\n",
    "        [maxHeight, visibleTrees] = determineVisibility(data[i][len(data)-1-j], maxHeight, visibleTrees)    \n",
    "for i in range(len(data)):  \n",
    "    maxHeight = -1\n",
    "    for j in range(len(data)):\n",
    "        [maxHeight, visibleTrees] = determineVisibility(data[j][i], maxHeight, visibleTrees)         \n",
    "for i in range(len(data)):     \n",
    "    maxHeight = -1      \n",
    "    for j in range(len(data)):\n",
    "        [maxHeight, visibleTrees] = determineVisibility(data[len(data)-1-j][i], maxHeight, visibleTrees)            \n",
    "visibleTrees"
   ]
  },
  {
   "cell_type": "code",
   "execution_count": null,
   "id": "7825d0b2",
   "metadata": {},
   "outputs": [],
   "source": [
    "\n",
    "data"
   ]
  },
  {
   "cell_type": "code",
   "execution_count": null,
   "id": "7840c0e5",
   "metadata": {},
   "outputs": [],
   "source": [
    "file1 = open('input8', 'r')\n",
    "data = []\n",
    "for line in file1.readlines():\n",
    "    lineData = []\n",
    "    for char in line[:-1]:\n",
    "        lineData.append([int(char), [0, 0, 0, 0]])\n",
    "    data.append(lineData)\n",
    "data"
   ]
  },
  {
   "cell_type": "code",
   "execution_count": null,
   "id": "4319c092",
   "metadata": {},
   "outputs": [],
   "source": [
    "for i in range(1, len(data)-1):   \n",
    "    for j in range(1, len(data)-1):\n",
    "        for a in range(1, len(data)):            \n",
    "            index = i+a\n",
    "            data[i][j][1][0] = a\n",
    "#            print(\"i:\" + str(i) + \"a: \" + str(a) + \"index: \" +str(index))\n",
    "            if index >= len(data)-1 or index <= 0:   \n",
    "                break\n",
    "            if data[index][j][0] >= data[i][j][0]:\n",
    "                break\n",
    "                \n",
    "        for a in range(1, len(data)):            \n",
    "            index = i-a\n",
    "            data[i][j][1][1] = a\n",
    "#            print(\"i:\" + str(i) + \"a: \" + str(a) + \"index: \" +str(index))\n",
    "            if index >= len(data)-1 or index <= 0:   \n",
    "                break\n",
    "            if data[index][j][0] >= data[i][j][0]:\n",
    "                break\n",
    "                \n",
    "        for a in range(1, len(data)):            \n",
    "            jIndex = j+a\n",
    "            data[i][j][1][2] = a\n",
    "#            print(\"i:\" + str(i) + \"a: \" + str(a) + \"index: \" +str(index))\n",
    "            if jIndex >= len(data)-1 or jIndex <= 0:   \n",
    "                break\n",
    "            if data[i][jIndex][0] >= data[i][j][0]:\n",
    "                break   \n",
    "                \n",
    "        for a in range(1, len(data)):            \n",
    "            jIndex = j-a\n",
    "            data[i][j][1][3] = a\n",
    "#            print(\"i:\" + str(i) + \"a: \" + str(a) + \"index: \" +str(index))\n",
    "            if jIndex >= len(data)-1 or jIndex <= 0:   \n",
    "                break\n",
    "            if data[i][jIndex][0] >= data[i][j][0]:\n",
    "                break                   \n",
    "maxValue = 0\n",
    "for i in range(len(data)):   \n",
    "    for j in range(len(data)):\n",
    "        value = 1\n",
    "        for a in range(4):\n",
    "            value *= data[i][j][1][a]\n",
    "        maxValue = max(value, maxValue)\n",
    "        #print(value)\n",
    "        #print(data[i][j])    \n",
    "maxValue"
   ]
  }
 ],
 "metadata": {
  "kernelspec": {
   "display_name": "Python 3 (ipykernel)",
   "language": "python",
   "name": "python3"
  },
  "language_info": {
   "codemirror_mode": {
    "name": "ipython",
    "version": 3
   },
   "file_extension": ".py",
   "mimetype": "text/x-python",
   "name": "python",
   "nbconvert_exporter": "python",
   "pygments_lexer": "ipython3",
   "version": "3.9.6"
  }
 },
 "nbformat": 4,
 "nbformat_minor": 5
}

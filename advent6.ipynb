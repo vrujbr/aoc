{
 "cells": [
  {
   "cell_type": "code",
   "execution_count": 21,
   "id": "058ef664",
   "metadata": {},
   "outputs": [],
   "source": [
    "file = open('input6', 'r')\n",
    "chars = []\n",
    "for char in file.read():\n",
    "    chars.append(char)"
   ]
  },
  {
   "cell_type": "code",
   "execution_count": 64,
   "id": "2f486064",
   "metadata": {},
   "outputs": [
    {
     "name": "stdout",
     "output_type": "stream",
     "text": [
      "2122\n"
     ]
    }
   ],
   "source": [
    "buffer = \"\"\n",
    "index = 1\n",
    "for char in chars:\n",
    "    buffer += char\n",
    "    marker = buffer[-14:]\n",
    "    #print(marker)\n",
    "    #print(index)\n",
    "    \n",
    "    notEqual = True\n",
    "    if index > 14:    \n",
    "        for i in range(14):\n",
    "            for j in range(i+1, 14):                    \n",
    "                if marker[i] == marker[j]:\n",
    "                    notEqual = False                    \n",
    "        if (notEqual):\n",
    "            print(index)\n",
    "            break\n",
    "            \n",
    "    index += 1            \n",
    "    #print(\"\\n\")       "
   ]
  },
  {
   "cell_type": "code",
   "execution_count": null,
   "id": "5b0dcfa6",
   "metadata": {},
   "outputs": [],
   "source": []
  }
 ],
 "metadata": {
  "kernelspec": {
   "display_name": "Python 3 (ipykernel)",
   "language": "python",
   "name": "python3"
  },
  "language_info": {
   "codemirror_mode": {
    "name": "ipython",
    "version": 3
   },
   "file_extension": ".py",
   "mimetype": "text/x-python",
   "name": "python",
   "nbconvert_exporter": "python",
   "pygments_lexer": "ipython3",
   "version": "3.9.6"
  }
 },
 "nbformat": 4,
 "nbformat_minor": 5
}

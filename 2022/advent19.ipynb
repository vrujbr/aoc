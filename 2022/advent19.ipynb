{
 "cells": [
  {
   "cell_type": "code",
   "execution_count": 2,
   "id": "ba28c4c2",
   "metadata": {},
   "outputs": [
    {
     "data": {
      "text/plain": [
       "[[[4, 0, 0, 0], [4, 0, 0, 0], [2, 7, 0, 0], [4, 0, 13, 0]],\n",
       " [[4, 0, 0, 0], [4, 0, 0, 0], [4, 15, 0, 0], [3, 0, 8, 0]],\n",
       " [[4, 0, 0, 0], [4, 0, 0, 0], [4, 18, 0, 0], [4, 0, 9, 0]]]"
      ]
     },
     "execution_count": 2,
     "metadata": {},
     "output_type": "execute_result"
    }
   ],
   "source": [
    "#0 - ore, 1 - clay , 2 - obsidian, 3 - geode\n",
    "blueprints = []\n",
    "for line in lines:\n",
    "    values = [int(v) for v in re.findall(\"\\d+\", line)]\n",
    "    blueprints.append([[values[1],0,0,0], [values[2],0,0,0], [values[3],values[4],0,0], [values[5],0,values[6],0]])\n",
    "blueprints[:3]"
   ]
  },
  {
   "cell_type": "code",
   "execution_count": 48,
   "id": "d0063532",
   "metadata": {},
   "outputs": [
    {
     "name": "stdout",
     "output_type": "stream",
     "text": [
      "221568, 23\n"
     ]
    }
   ],
   "source": [
    "blueprint = blueprints[1]\n",
    "\n",
    "maxOreCost = max([robotCost[0] for robotCost in blueprint])\n",
    "maxClaiCost = max([robotCost[1] for robotCost in blueprint])\n",
    "maxObsidianCost = max([robotCost[2] for robotCost in blueprint])\n",
    "\n",
    "def decide(minute, stash, robots, history):\n",
    "\n",
    "    #mine\n",
    "    prevStash = stash    \n",
    "    stash = [x + y for (x, y) in zip(robots, stash)]       \n",
    "\n",
    "    #print(str(minute) + \"Stash: \" + str(stash) + \" robots: \" + str(robots))            \n",
    "    \n",
    "    #No point of having more robots, then material cost of next robot\n",
    "    if robots[0] > blueprint[1][0] or robots[1] > blueprint[2][1] or robots[2] > blueprint[3][2]:\n",
    "        return []\n",
    "\n",
    "    if minute == 18:\n",
    "        #keep only options with obsidian robot                \n",
    "        if robots[2] == 0: \n",
    "            return []   \n",
    "\n",
    "    if minute == 6:            \n",
    "        if robots[0] + robots[1] < 2: \n",
    "            return []  \n",
    "        \n",
    "    if minute == 11:                \n",
    "        if robots[0] + robots[1] < 4: \n",
    "            return []      \n",
    "        \n",
    "    if minute == 32:\n",
    "        return [(robots, stash, history)]        \n",
    "\n",
    "    options = []\n",
    "    #if we have stash for every robot, build something!\n",
    "    if prevStash[0] < maxOreCost or prevStash[1] < maxClaiCost or prevStash[2] < maxObsidianCost:\n",
    "        if minute < 20 or prevStash[0] < maxOreCost or prevStash[2] < maxObsidianCost:\n",
    "            options += (decide(minute+1, stash, robots, history))\n",
    "\n",
    "    #build robots\n",
    "    robotNumbers = [0,1,2,3]                 \n",
    "    if minute >= 28: #build only geode robots after n minute\n",
    "        robotNumbers = [3]\n",
    "    elif minute >= 22:\n",
    "        robotNumbers = [2,3]        \n",
    "    for robotNumber in robotNumbers:        \n",
    "        availableStash = [balance - cost for (balance, cost) in zip(prevStash, blueprint[robotNumber])]    \n",
    "        if all([balance >= 0 for balance in availableStash]):\n",
    "            #print(\"Building \" + str(robotNumber) + \" robot at minute \" + str(minute))\n",
    "            localStash = [balance - cost for (balance, cost) in zip(stash, blueprint[robotNumber])]\n",
    "            localRobots = robots.copy()\n",
    "            localRobots[robotNumber] += 1\n",
    "            options += (decide(minute+1, localStash, localRobots, history + [robotNumber]))\n",
    "\n",
    "    return options\n",
    "\n",
    "#[(robots, stash)]\n",
    "results = decide(1, [0,0,0,0], [1,0,0,0], [])        \n",
    "\n",
    "print(len(results), end=\", \")\n",
    "maxGeodes = max([result[1][3] for result in results])\n",
    "print(maxGeodes)"
   ]
  },
  {
   "cell_type": "code",
   "execution_count": null,
   "id": "b3d992e3",
   "metadata": {},
   "outputs": [],
   "source": [
    "#blueprint1: 29  [0, 1, 1, 1, 1, 2, 2, 2, 2, 0, 2, 3, 2, 3, 2, 3, 3, 3, 3]\n",
    "#blueprint2: 23  [0, 0, 1, 0, 1, 1, 1, 1, 1, 2, 1, 1, 2, 1, 2, 2, 3, 2, 3, 2, 3, 3, 3,3]\n",
    "#blueprint3: 16  [0, 0, 1, 0, 1, 1, 1, 1, 1, 1, 1, 2, 1, 2, 2, 1, 2, 3, 2, 3, 2, 3, 3, 3]\n",
    "29 * 23 * 16"
   ]
  },
  {
   "cell_type": "code",
   "execution_count": 44,
   "id": "e0eba5fa",
   "metadata": {
    "scrolled": false
   },
   "outputs": [
    {
     "name": "stdout",
     "output_type": "stream",
     "text": [
      "Minute 01                  robots: [1, 0, 0, 0] prev stash: [0, 0, 0, 0]\n",
      "Minute 02                  robots: [1, 0, 0, 0] prev stash: [1, 0, 0, 0]\n",
      "Minute 03                  robots: [1, 0, 0, 0] prev stash: [2, 0, 0, 0]\n",
      "Minute 04                  robots: [1, 0, 0, 0] prev stash: [3, 0, 0, 0]\n",
      "Minute 05 Building robot 0 robots: [2, 0, 0, 0] prev stash: [4, 0, 0, 0]\n",
      "Minute 06                  robots: [2, 0, 0, 0] prev stash: [1, 0, 0, 0]\n",
      "Minute 07                  robots: [2, 0, 0, 0] prev stash: [3, 0, 0, 0]\n",
      "Minute 08 Building robot 0 robots: [3, 0, 0, 0] prev stash: [5, 0, 0, 0]\n",
      "Minute 09                  robots: [3, 0, 0, 0] prev stash: [3, 0, 0, 0]\n",
      "Minute 10 Building robot 1 robots: [3, 1, 0, 0] prev stash: [6, 0, 0, 0]\n",
      "Minute 11 Building robot 0 robots: [4, 1, 0, 0] prev stash: [5, 0, 0, 0]\n",
      "Minute 12 Building robot 1 robots: [4, 2, 0, 0] prev stash: [4, 1, 0, 0]\n",
      "Minute 13 Building robot 1 robots: [4, 3, 0, 0] prev stash: [4, 2, 0, 0]\n",
      "Minute 14 Building robot 1 robots: [4, 4, 0, 0] prev stash: [4, 4, 0, 0]\n",
      "Minute 15 Building robot 1 robots: [4, 5, 0, 0] prev stash: [4, 7, 0, 0]\n",
      "Minute 16 Building robot 1 robots: [4, 6, 0, 0] prev stash: [4, 11, 0, 0]\n",
      "Minute 17 Building robot 2 robots: [4, 6, 1, 0] prev stash: [4, 16, 0, 0]\n",
      "Minute 18 Building robot 1 robots: [4, 7, 1, 0] prev stash: [4, 7, 0, 0]\n",
      "Minute 19 Building robot 1 robots: [4, 8, 1, 0] prev stash: [4, 13, 1, 0]\n",
      "Minute 20 Building robot 2 robots: [4, 8, 2, 0] prev stash: [4, 20, 2, 0]\n",
      "Minute 21 Building robot 1 robots: [4, 9, 2, 0] prev stash: [4, 13, 3, 0]\n",
      "Minute 22 Building robot 2 robots: [4, 9, 3, 0] prev stash: [4, 21, 5, 0]\n",
      "Minute 23 Building robot 2 robots: [4, 9, 4, 0] prev stash: [4, 15, 7, 0]\n",
      "Minute 24 Building robot 3 robots: [4, 9, 4, 1] prev stash: [4, 9, 10, 0]\n",
      "Minute 25 Building robot 2 robots: [4, 9, 5, 1] prev stash: [5, 18, 6, 0]\n",
      "Minute 26 Building robot 3 robots: [4, 9, 5, 2] prev stash: [5, 12, 10, 1]\n",
      "Minute 27 Building robot 2 robots: [4, 9, 6, 2] prev stash: [6, 21, 7, 2]\n",
      "Minute 28 Building robot 3 robots: [4, 9, 6, 3] prev stash: [6, 15, 12, 4]\n",
      "Minute 29 Building robot 3 robots: [4, 9, 6, 4] prev stash: [7, 24, 10, 6]\n",
      "Minute 30 Building robot 3 robots: [4, 9, 6, 5] prev stash: [8, 33, 8, 9]\n",
      "Minute 31                  robots: [4, 9, 6, 5] prev stash: [9, 42, 6, 13]\n",
      "Minute 32 Building robot 3 robots: [4, 9, 6, 6] prev stash: [13, 51, 12, 18]\n",
      "remaining order: [] stash: [14, 60, 10, 23] robots: [4, 9, 6, 6]\n",
      "Max geodes: 23\n"
     ]
    }
   ],
   "source": [
    "#[[1,1,1,2,1,2,3,3]]    \n",
    "blueprint = blueprints[1]\n",
    "endStashStates = []\n",
    "#order = [0, 1, 1, 1, 1, 2, 2, 2, 2, 0, 2, 3, 2, 3, 2, 3, 3, 3, 3] #blueprint 0\n",
    "order = [0, 0, 1, 0, 1, 1, 1, 1, 1, 2, 1, 1, 2, 1, 2, 2, 3, 2, 3, 2, 3, 3, 3,3] #blueprint 1\n",
    "#order = [0, 0, 1, 0, 1, 1, 1, 1, 1, 1, 1, 2, 2, 1, 1, 2, 2, 3, 2, 3, 2, 3, 3, 3] #blueprint2\n",
    "robots = [1,0,0,0]\n",
    "stash = [0, 0, 0, 0]\n",
    "for curRound in range(32):            \n",
    "    #mine                    \n",
    "    prevStash = stash\n",
    "    stash = [x + y for (x, y) in zip(robots, stash)]    \n",
    "\n",
    "    #build robots\n",
    "    if len(order) == 0:\n",
    "        print(\"Minute \" + str(curRound+1) + \" robots: \" + str(robots) +\"prev stash: \" +str(prevStash))                        \n",
    "        continue\n",
    "\n",
    "    robotToBuild = order[0]                     \n",
    "    availableStash = [balance - cost for (balance, cost) in zip(prevStash, blueprint[robotToBuild])]\n",
    "    if all([balance >= 0 for balance in availableStash]):\n",
    "        stash = [balance - cost for (balance, cost) in zip(stash, blueprint[robotToBuild])]\n",
    "        robots[robotToBuild] += 1\n",
    "        order.remove(robotToBuild)\n",
    "        print(\"Minute \" + f\"{curRound+1:02d}\" + \" Building robot \" +str(robotToBuild) + \" robots: \" + str(robots) +\" prev stash: \" +str(prevStash))\n",
    "    else:\n",
    "        print(\"Minute \" + f\"{curRound+1:02d}\" + \"                  robots: \" + str(robots) +\" prev stash: \" +str(prevStash))                \n",
    "\n",
    "#if stash[3] > 8:\n",
    "print(\"remaining order: \" + str(order)+\" stash: \" + str(stash) + \" robots: \" + str(robots))        \n",
    "endStashStates.append(stash)\n",
    "\n",
    "maxGeodes = max([stash[3] for stash in endStashStates])\n",
    "print(\"Max geodes: \" + str(maxGeodes))"
   ]
  }
 ],
 "metadata": {
  "kernelspec": {
   "display_name": "Python 3 (ipykernel)",
   "language": "python",
   "name": "python3"
  },
  "language_info": {
   "codemirror_mode": {
    "name": "ipython",
    "version": 3
   },
   "file_extension": ".py",
   "mimetype": "text/x-python",
   "name": "python",
   "nbconvert_exporter": "python",
   "pygments_lexer": "ipython3",
   "version": "3.9.6"
  }
 },
 "nbformat": 4,
 "nbformat_minor": 5
}

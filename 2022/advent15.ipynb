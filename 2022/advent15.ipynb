{
 "cells": [
  {
   "cell_type": "code",
   "execution_count": 150,
   "id": "b963d323",
   "metadata": {},
   "outputs": [],
   "source": [
    "import re\n",
    "file = open('input15', 'r')\n",
    "data = []\n",
    "lines = file.read().splitlines()\n",
    "\n",
    "class Sensor():\n",
    "    def __init__(self, location, distance):\n",
    "        self.location = location\n",
    "        self.distance = distance    \n",
    "        \n",
    "    def __str__(self):\n",
    "        return \"Position: \" + str(self.location) + \", distance: \" + str(self.distance)"
   ]
  },
  {
   "cell_type": "code",
   "execution_count": 151,
   "id": "0ca26769",
   "metadata": {},
   "outputs": [],
   "source": [
    "def dist(a, b):\n",
    "    return abs(a[0] - b[0]) + abs(a[1] - b[1])"
   ]
  },
  {
   "cell_type": "code",
   "execution_count": null,
   "id": "60e29189",
   "metadata": {},
   "outputs": [],
   "source": [
    "sensors = []\n",
    "beacons = []\n",
    "for line in lines:\n",
    "    digits = [int(x) for x in re.findall(\"[-]*\\d+\", line)]\n",
    "    sensorPos = (digits[0], digits[1])\n",
    "    beacon = (digits[2], digits[3])\n",
    "    distance = dist(sensorPos, beacon)\n",
    "    sensors.append(Sensor(sensorPos, distance))\n",
    "    beacons.append(beacon)\n",
    "for sensor in sensors:\n",
    "    print(sensor)\n",
    "for beacon in beacons:\n",
    "    print(beacon)"
   ]
  },
  {
   "cell_type": "code",
   "execution_count": null,
   "id": "05e504fe",
   "metadata": {
    "scrolled": false
   },
   "outputs": [],
   "source": [
    "#part one\n",
    "#y=10\n",
    "y=2000000\n",
    "unavailablePositions = set()\n",
    "print(len(unavailablePositions))\n",
    "for sensor in sensors:\n",
    "    print(sensor)\n",
    "    for x in range(max(0, sensor.location[0] - sensor.distance), min(4000000, sensor.location[0] + sensor.distance)):\n",
    "        pos = (x, y)\n",
    "        if dist(sensor.location, pos) == sensor.distance:\n",
    "            print(pos)\n",
    "        if dist(sensor.location, pos) <= sensor.distance:\n",
    "            unavailablePositions.add(pos) \n",
    "            #print(pos)  \n",
    "    print(len(unavailablePositions))\n",
    "len(unavailablePositions)"
   ]
  },
  {
   "cell_type": "code",
   "execution_count": 158,
   "id": "bbf655b5",
   "metadata": {},
   "outputs": [
    {
     "name": "stdout",
     "output_type": "stream",
     "text": [
      "Fount it! x: 2662275 y: 3160102\n"
     ]
    }
   ],
   "source": [
    "#part two\n",
    "beaconCoords = None\n",
    "for y in range(4000000):\n",
    "    intervals = []\n",
    "    for sensor in sensors:\n",
    "        intersectOffset = sensor.distance - abs(sensor.location[1] - y)\n",
    "        if intersectOffset >= 0:\n",
    "            xStart = sensor.location[0] - intersectOffset\n",
    "            xEnd = sensor.location[0] + intersectOffset    \n",
    "            intervals.append((xStart, xEnd))                        \n",
    "    \n",
    "    intervals.sort()\n",
    "    minX = 0\n",
    "    for interval in intervals:\n",
    "        if interval[0] <= minX+1:\n",
    "            minX = max(interval[1], minX)\n",
    "        else:            \n",
    "            print(\"Fount it! x: \" + str(interval[0]-1) + \" y: \" + str(y))\n",
    "            beaconCoords = (interval[0]-1, y)\n",
    "            break"
   ]
  },
  {
   "cell_type": "code",
   "execution_count": 159,
   "id": "f8c44cc0",
   "metadata": {},
   "outputs": [
    {
     "data": {
      "text/plain": [
       "10649103160102"
      ]
     },
     "execution_count": 159,
     "metadata": {},
     "output_type": "execute_result"
    }
   ],
   "source": [
    "beaconCoords[0] * 4000000 + beaconCoords[1]"
   ]
  }
 ],
 "metadata": {
  "kernelspec": {
   "display_name": "Python 3 (ipykernel)",
   "language": "python",
   "name": "python3"
  },
  "language_info": {
   "codemirror_mode": {
    "name": "ipython",
    "version": 3
   },
   "file_extension": ".py",
   "mimetype": "text/x-python",
   "name": "python",
   "nbconvert_exporter": "python",
   "pygments_lexer": "ipython3",
   "version": "3.9.6"
  }
 },
 "nbformat": 4,
 "nbformat_minor": 5
}

{
 "cells": [
  {
   "cell_type": "code",
   "execution_count": 217,
   "id": "d944374a",
   "metadata": {},
   "outputs": [],
   "source": [
    "import re\n",
    "file = open('input20', 'r')\n",
    "lines = file.read().splitlines()"
   ]
  },
  {
   "cell_type": "code",
   "execution_count": 218,
   "id": "3c50f1fc",
   "metadata": {},
   "outputs": [],
   "source": [
    "encryptionKey = 811589153\n",
    "data = [(i, int(x) * encryptionKey) for i, x in enumerate(lines)]"
   ]
  },
  {
   "cell_type": "code",
   "execution_count": 219,
   "id": "63e7ddd6",
   "metadata": {},
   "outputs": [],
   "source": [
    "l = data.copy()\n",
    "count = len(l)\n",
    "for i in range(10):\n",
    "    for item in data:\n",
    "        index = l.index(item)\n",
    "        l.insert((index + item[1]) % (count-1), l.pop(index))"
   ]
  },
  {
   "cell_type": "code",
   "execution_count": 220,
   "id": "3aa0183c",
   "metadata": {},
   "outputs": [
    {
     "data": {
      "text/plain": [
       "8332585833851"
      ]
     },
     "execution_count": 220,
     "metadata": {},
     "output_type": "execute_result"
    }
   ],
   "source": [
    "zeroIndex = 0\n",
    "for i, item in enumerate(l):\n",
    "    if item[1] == 0:\n",
    "        zeroIndex = i\n",
    "l[(zeroIndex + 1000)%count][1] + l[(zeroIndex + 2000)%count][1] + l[(zeroIndex + 3000)%count][1]"
   ]
  }
 ],
 "metadata": {
  "kernelspec": {
   "display_name": "Python 3 (ipykernel)",
   "language": "python",
   "name": "python3"
  },
  "language_info": {
   "codemirror_mode": {
    "name": "ipython",
    "version": 3
   },
   "file_extension": ".py",
   "mimetype": "text/x-python",
   "name": "python",
   "nbconvert_exporter": "python",
   "pygments_lexer": "ipython3",
   "version": "3.9.6"
  }
 },
 "nbformat": 4,
 "nbformat_minor": 5
}

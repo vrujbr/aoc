{
 "cells": [
  {
   "cell_type": "code",
   "execution_count": 702,
   "id": "395d032b",
   "metadata": {},
   "outputs": [],
   "source": [
    "import re\n",
    "import math\n",
    "import itertools\n",
    "import random\n",
    "file = open('input16', 'r')\n",
    "lines = file.read().splitlines()\n",
    "\n",
    "class Node():\n",
    "    def __init__(self, name, children, flow):\n",
    "        self.name = name\n",
    "        self.children = children\n",
    "        self.flow = flow\n",
    "        self.index = 0\n",
    "        \n",
    "    def __eq__(self, other):\n",
    "        return self.name == other.name   \n",
    "    \n",
    "    def __lt__(self, other):\n",
    "        return self.flow < other.flow\n",
    "    \n",
    "    def __str__(self):\n",
    "        return self.name + \"(\" + str(self.flow) + \")\""
   ]
  },
  {
   "cell_type": "code",
   "execution_count": 703,
   "id": "ccc57b03",
   "metadata": {},
   "outputs": [],
   "source": [
    "nodes = []\n",
    "\n",
    "def nodeByName(name):\n",
    "    return [node for node in nodes if node.name == name][0]\n",
    "\n",
    "def pathLength(source, destination):\n",
    "    for node in nodes: \n",
    "        node.depth = None \n",
    "    source.depth = 0\n",
    "    queue = [source]\n",
    "    while len(queue) > 0:        \n",
    "        node = queue.pop(0)\n",
    "        if node == destination:\n",
    "            return node.depth\n",
    "        for child in node.children:\n",
    "            if child.depth == None:\n",
    "                child.depth = node.depth + 1\n",
    "                queue += [child]      \n",
    "                \n",
    "def pathLengthByName(source, destination):  \n",
    "    return pathLength(nodeByName(source), nodeByName(destination))\n",
    "\n",
    "for i, line in enumerate(lines):\n",
    "    flow = int(re.findall(\"\\d+\", line)[0])    \n",
    "    name = re.findall(\"[A-Z]+\", line)[1]\n",
    "    node = Node(name, [], flow)\n",
    "    node.identifier = pow(2, i)\n",
    "    nodes.append(node)\n",
    "    \n",
    "for i, line in enumerate(lines):\n",
    "    childrenNames = re.findall(\"[A-Z]+\", line)[2:]\n",
    "    for childName in childrenNames:        \n",
    "        childNode = [node for node in nodes if node.name == childName][0]\n",
    "        nodes[i].children.append(childNode)    \n",
    "        \n",
    "root = nodeByName('AA')"
   ]
  },
  {
   "cell_type": "code",
   "execution_count": 704,
   "id": "62ae560c",
   "metadata": {},
   "outputs": [],
   "source": [
    "flowNodes = list(filter(lambda node: node.flow > 0, nodes))\n",
    "    \n",
    "distances = []\n",
    "for index, node in enumerate([root] + flowNodes):    \n",
    "    distances.append([pathLength(node, other) for other in [root] + flowNodes])\n",
    "    node.index = index"
   ]
  },
  {
   "cell_type": "code",
   "execution_count": 727,
   "id": "1d7a9acb",
   "metadata": {},
   "outputs": [],
   "source": [
    "def findMaxFlow(nodes, time):\n",
    "    flows = [0]\n",
    "    histories = [[]]    \n",
    "    queue = [(root, 0, nodes.copy(), 0, [root])]\n",
    "    while len(queue) > 0:\n",
    "        (node, elapsed, remainingNodes, combinedFlow, history) = queue.pop(0)\n",
    "        remainingNodes.remove(node)\n",
    "        \n",
    "        if elapsed >= 20 and combinedFlow < 1100:\n",
    "            continue                 \n",
    "\n",
    "        if len(remainingNodes) == 0:\n",
    "            combinedFlow += (time-elapsed) * node.flow            \n",
    "            \n",
    "        if elapsed >= time or len(remainingNodes) == 0:\n",
    "            flows.append(combinedFlow)\n",
    "            histories.append(history) \n",
    "        else:\n",
    "            combinedFlow += (time-elapsed) * node.flow            \n",
    "            for nextNode in remainingNodes:          \n",
    "                nextElapsed = elapsed + distances[nextNode.index][node.index] + 1\n",
    "                nextRemainingNodes = remainingNodes.copy()\n",
    "                queue.append((nextNode, nextElapsed, nextRemainingNodes, combinedFlow, history + [nextNode]))\n",
    "        \n",
    "    maxFlow = max(flows)  \n",
    "    return (maxFlow, histories[flows.index(maxFlow)])"
   ]
  },
  {
   "cell_type": "code",
   "execution_count": 725,
   "id": "9471efcb",
   "metadata": {},
   "outputs": [
    {
     "data": {
      "text/plain": [
       "2080"
      ]
     },
     "execution_count": 725,
     "metadata": {},
     "output_type": "execute_result"
    }
   ],
   "source": [
    "findMaxFlow([root] + flowNodes, 30)[0]"
   ]
  },
  {
   "cell_type": "code",
   "execution_count": 733,
   "id": "c6f1fbee",
   "metadata": {
    "scrolled": true
   },
   "outputs": [
    {
     "data": {
      "text/plain": [
       "2708"
      ]
     },
     "execution_count": 733,
     "metadata": {},
     "output_type": "execute_result"
    }
   ],
   "source": [
    "results = []\n",
    "histories = []\n",
    "for combination in itertools.combinations(list(range(15)), 7):\n",
    "    a = []\n",
    "    b = []\n",
    "    for index in combination:\n",
    "        a.append(flowNodes[index])\n",
    "    for node in flowNodes:\n",
    "        if not node in a:\n",
    "            b.append(node)\n",
    "            \n",
    "    (resultA, historyA) = findMaxFlow([root] + a, 26)\n",
    "    (resultB, historyB) = findMaxFlow([root] + b, 26)    \n",
    "    results.append(resultA+resultB)\n",
    "    histories.append((historyA, historyB))\n",
    "max(results)"
   ]
  }
 ],
 "metadata": {
  "kernelspec": {
   "display_name": "Python 3 (ipykernel)",
   "language": "python",
   "name": "python3"
  },
  "language_info": {
   "codemirror_mode": {
    "name": "ipython",
    "version": 3
   },
   "file_extension": ".py",
   "mimetype": "text/x-python",
   "name": "python",
   "nbconvert_exporter": "python",
   "pygments_lexer": "ipython3",
   "version": "3.9.6"
  }
 },
 "nbformat": 4,
 "nbformat_minor": 5
}

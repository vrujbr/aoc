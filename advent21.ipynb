{
 "cells": [
  {
   "cell_type": "code",
   "execution_count": 518,
   "id": "29d01e79",
   "metadata": {},
   "outputs": [],
   "source": [
    "import re\n",
    "file = open('input21', 'r')\n",
    "lines = file.read().splitlines()"
   ]
  },
  {
   "cell_type": "code",
   "execution_count": 519,
   "id": "3ee968a3",
   "metadata": {},
   "outputs": [
    {
     "data": {
      "text/plain": [
       "1835"
      ]
     },
     "execution_count": 519,
     "metadata": {},
     "output_type": "execute_result"
    }
   ],
   "source": [
    "inputData = {}\n",
    "for line in lines:\n",
    "    name = line[:4]\n",
    "    argument = line[6:]\n",
    "    inputData[name] = argument\n",
    "len(inputData)"
   ]
  },
  {
   "cell_type": "code",
   "execution_count": 520,
   "id": "8f147d7f",
   "metadata": {},
   "outputs": [
    {
     "data": {
      "text/plain": [
       "'41857219607906'"
      ]
     },
     "execution_count": 520,
     "metadata": {},
     "output_type": "execute_result"
    }
   ],
   "source": [
    "data = inputData.copy()\n",
    "while not data['root'].isnumeric():\n",
    "    for key in data:   \n",
    "        if data[key].isnumeric():\n",
    "            continue\n",
    "        else:\n",
    "            #print(\"Evaluating \" +data[key])\n",
    "            arg1 = data[key][:4]\n",
    "            arg2 = data[key][7:]\n",
    "            if data[arg1].isnumeric() and data[arg2].isnumeric():\n",
    "                operation = data[key][5]\n",
    "                data[key] = str(int(eval(data[arg1] + operation + data[arg2])))\n",
    "data['root']"
   ]
  },
  {
   "cell_type": "code",
   "execution_count": 521,
   "id": "6b52461f",
   "metadata": {},
   "outputs": [],
   "source": [
    "class Node():\n",
    "    def __init__(self, name, value=None, left=None, operation=None, right=None):\n",
    "        self.name = name\n",
    "        self.value = value\n",
    "        self.left = left\n",
    "        self.operation = operation\n",
    "        self.right = right    \n",
    "    def __eq__(self, other):\n",
    "        if other is None or self is None:\n",
    "            return False\n",
    "        return self.name == other.name\n",
    "    def __str__(self):\n",
    "        return self.name + \"(\" + str(self.value) + \")\""
   ]
  },
  {
   "cell_type": "code",
   "execution_count": 522,
   "id": "d4a71058",
   "metadata": {},
   "outputs": [],
   "source": [
    "#Load data into tree sctucture\n",
    "nodes = {}\n",
    "while len(lines) > len(nodes):\n",
    "    for line in lines:\n",
    "        name = line[:4]\n",
    "        argument = line[6:]\n",
    "        if name in nodes:\n",
    "            continue\n",
    "        if argument.isnumeric():\n",
    "            nodes[name] = Node(name, int(argument))\n",
    "        else:\n",
    "            arg1 = argument[:4]\n",
    "            arg2 = argument[7:]    \n",
    "            operation = argument[5]\n",
    "            if arg1 in nodes and arg2 in nodes:\n",
    "                nodes[name] = Node(name, None, nodes[arg1], operation, nodes[arg2])      \n",
    "nodes['humn'].value = None"
   ]
  },
  {
   "cell_type": "code",
   "execution_count": 523,
   "id": "2c515ce4",
   "metadata": {},
   "outputs": [],
   "source": [
    "#Evaluate what can be avaluated\n",
    "for key in nodes:\n",
    "    node = nodes[key]\n",
    "    if node.value != None:\n",
    "        continue\n",
    "    if node.left is None or node.right is None:\n",
    "        continue\n",
    "    #print('evaluating node ' + node.name + \" \" + str(node.left) + \" \"+  str(node.right))    \n",
    "    if node.left.value != None and node.right.value != None:            \n",
    "        exp = str(node.left.value) + node.operation + str(node.right.value)                        \n",
    "        node.value = int(eval(exp))"
   ]
  },
  {
   "cell_type": "code",
   "execution_count": 525,
   "id": "de35dedb",
   "metadata": {
    "scrolled": true
   },
   "outputs": [
    {
     "name": "stdout",
     "output_type": "stream",
     "text": [
      "humn(3916936880448)\n"
     ]
    }
   ],
   "source": [
    "#Find the hunm value\n",
    "nodes['root'].left.value = nodes['root'].right.value\n",
    "\n",
    "while nodes['humn'].value is None:\n",
    "    for key in nodes:\n",
    "        node = nodes[key]    \n",
    "\n",
    "        if node.name == 'humn':\n",
    "            continue        \n",
    "\n",
    "        if node.left is None and node.right is None and node.value: #leaf\n",
    "            continue\n",
    "\n",
    "        if node.left.value != None and node.right.value != None: #finished node\n",
    "            continue    \n",
    "\n",
    "        if node.value is None: #node not ready\n",
    "            continue\n",
    "\n",
    "        #print('evaluating node ' + str(node) + \" \" + str(node.left) + \" \" +node.operation+\" \"+  str(node.right))    \n",
    "        if node.right.value == None:\n",
    "            if node.operation == '*':\n",
    "                node.right.value = int(node.value / node.left.value)\n",
    "            if node.operation == '+':\n",
    "                node.right.value = node.value - node.left.value        \n",
    "            if node.operation == '/':\n",
    "                node.right.value = int(node.left.value / node.value)\n",
    "            if node.operation == '-':\n",
    "                node.right.value = node.left.value - node.value                 \n",
    "        else:\n",
    "            if node.operation == '*':\n",
    "                node.left.value = int(node.value / node.right.value)\n",
    "            if node.operation == '+':\n",
    "                node.left.value = node.value - node.right.value        \n",
    "            if node.operation == '/':\n",
    "                node.left.value = node.right.value * node.value\n",
    "            if node.operation == '-':\n",
    "                node.left.value = node.right.value + node.value    \n",
    "    \n",
    "print(nodes['humn'])"
   ]
  }
 ],
 "metadata": {
  "kernelspec": {
   "display_name": "Python 3 (ipykernel)",
   "language": "python",
   "name": "python3"
  },
  "language_info": {
   "codemirror_mode": {
    "name": "ipython",
    "version": 3
   },
   "file_extension": ".py",
   "mimetype": "text/x-python",
   "name": "python",
   "nbconvert_exporter": "python",
   "pygments_lexer": "ipython3",
   "version": "3.9.6"
  }
 },
 "nbformat": 4,
 "nbformat_minor": 5
}

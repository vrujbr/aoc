{
 "cells": [
  {
   "cell_type": "code",
   "execution_count": null,
   "id": "4959afb2",
   "metadata": {},
   "outputs": [],
   "source": [
    "file1 = open('input3', 'r')\n",
    "Lines = file1.readlines()"
   ]
  },
  {
   "cell_type": "code",
   "execution_count": null,
   "id": "a9a1fb4d",
   "metadata": {},
   "outputs": [],
   "source": [
    "def charPriority(char):\n",
    "    ordVal = ord(char)\n",
    "    if ordVal >= 97:\n",
    "        return ordVal - 96\n",
    "    return ordVal - 65 + 27"
   ]
  },
  {
   "cell_type": "code",
   "execution_count": null,
   "id": "bec90936",
   "metadata": {},
   "outputs": [],
   "source": [
    "sumVal = 0\n",
    "\n",
    "for line in Lines:\n",
    "    half = int(len(line)/2)               \n",
    "    a = line[0:half]\n",
    "    b = line[half:]\n",
    "    #print(line)          \n",
    "    #print(a)\n",
    "    #print(b)\n",
    "        \n",
    "    mistakeChar = \"\"\n",
    "    for char in a:\n",
    "        if b.find(char) != -1:\n",
    "            mistakeChar = char\n",
    "            break\n",
    "            \n",
    "    sumVal += charPriority(mistakeChar)        \n",
    "            \n",
    "    #print(mistakeChar)\n",
    "    #print(ord(mistakeChar))\n",
    "    \n",
    "sumVal"
   ]
  },
  {
   "cell_type": "code",
   "execution_count": null,
   "id": "389d62d7",
   "metadata": {},
   "outputs": [],
   "source": [
    "for i in range(0, 5):\n",
    "    print(i)"
   ]
  },
  {
   "cell_type": "code",
   "execution_count": null,
   "id": "086cbaad",
   "metadata": {},
   "outputs": [],
   "source": [
    "sumVal = 0\n",
    "\n",
    "for i in range(0, int(len(Lines)/3)):\n",
    "    a = Lines[i*3]\n",
    "    b = Lines[i*3+1]\n",
    "    c = Lines[i*3+2]   \n",
    "    \n",
    "    print(a)\n",
    "    print(b)\n",
    "    print(c)\n",
    "    \n",
    "    mistakeChar = \"\"\n",
    "    for char in a:\n",
    "        if b.find(char) != -1:\n",
    "            if c.find(char) != -1:\n",
    "                mistakeChar = char\n",
    "                break                \n",
    "    \n",
    "    sumVal += charPriority(mistakeChar)  \n",
    "    print(mistakeChar)\n",
    "\n",
    "sumVal    "
   ]
  }
 ],
 "metadata": {
  "kernelspec": {
   "display_name": "Python 3 (ipykernel)",
   "language": "python",
   "name": "python3"
  },
  "language_info": {
   "codemirror_mode": {
    "name": "ipython",
    "version": 3
   },
   "file_extension": ".py",
   "mimetype": "text/x-python",
   "name": "python",
   "nbconvert_exporter": "python",
   "pygments_lexer": "ipython3",
   "version": "3.9.6"
  }
 },
 "nbformat": 4,
 "nbformat_minor": 5
}

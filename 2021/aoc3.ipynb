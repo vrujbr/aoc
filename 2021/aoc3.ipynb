{
 "cells": [
  {
   "cell_type": "code",
   "execution_count": 140,
   "id": "fb0e8fed",
   "metadata": {},
   "outputs": [],
   "source": [
    "import numpy as np\n",
    "file = open('input3', 'r')\n",
    "lines = file.read().splitlines()\n",
    "data = np.array([np.array(list(line), dtype=int) for line in lines])"
   ]
  },
  {
   "cell_type": "code",
   "execution_count": 141,
   "id": "3672bdc8",
   "metadata": {},
   "outputs": [
    {
     "data": {
      "text/plain": [
       "2724524"
      ]
     },
     "execution_count": 141,
     "metadata": {},
     "output_type": "execute_result"
    }
   ],
   "source": [
    "gamma = [1 if sum(col) >= len(col)/2 else 0 for col in np.transpose(data)]\n",
    "epsilon = [(val + 1) % 2 for val in gamma]\n",
    "gammaBinary = ''.join(map(str, gamma))\n",
    "epsilonBinary = ''.join(map(str, epsilon))\n",
    "gammaDecimal = int(gammaBinary, 2)\n",
    "epsilonDecimal = int(epsilonBinary, 2)\n",
    "gammaDecimal * epsilonDecimal"
   ]
  },
  {
   "cell_type": "code",
   "execution_count": 142,
   "id": "aec07054",
   "metadata": {},
   "outputs": [
    {
     "data": {
      "text/plain": [
       "2775870"
      ]
     },
     "execution_count": 142,
     "metadata": {},
     "output_type": "execute_result"
    }
   ],
   "source": [
    "def findRating(keepValue):\n",
    "    cols = np.transpose(data)\n",
    "    oxVals = list(range(len(cols[0])))\n",
    "    colIndex = 0\n",
    "    while len(oxVals) > 1:\n",
    "        col = cols[colIndex]\n",
    "        filteredCol = [None]*len(col)\n",
    "        for oxVal in oxVals:\n",
    "            filteredCol[oxVal] = col[oxVal]    \n",
    "\n",
    "        keepBit = keepValue if filteredCol.count(1) >= filteredCol.count(0) else (keepValue+1)%2\n",
    "\n",
    "        nextOxVals = []\n",
    "        for oxVal in oxVals:\n",
    "            if filteredCol[oxVal] == keepBit:\n",
    "                nextOxVals.append(oxVal)   \n",
    "        oxVals = nextOxVals\n",
    "        colIndex += 1      \n",
    "\n",
    "    valueBinary = ''.join(map(str, data[oxVals[0]]))\n",
    "    return int(valueBinary, 2)\n",
    "findRating(0) * findRating(1)"
   ]
  }
 ],
 "metadata": {
  "kernelspec": {
   "display_name": "Python 3 (ipykernel)",
   "language": "python",
   "name": "python3"
  },
  "language_info": {
   "codemirror_mode": {
    "name": "ipython",
    "version": 3
   },
   "file_extension": ".py",
   "mimetype": "text/x-python",
   "name": "python",
   "nbconvert_exporter": "python",
   "pygments_lexer": "ipython3",
   "version": "3.9.6"
  }
 },
 "nbformat": 4,
 "nbformat_minor": 5
}

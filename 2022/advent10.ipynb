{
 "cells": [
  {
   "cell_type": "code",
   "execution_count": 160,
   "id": "458731bd",
   "metadata": {},
   "outputs": [],
   "source": [
    "file = open('input10', 'r')\n",
    "data = []\n",
    "lines = file.readlines()"
   ]
  },
  {
   "cell_type": "code",
   "execution_count": 161,
   "id": "5259bcd2",
   "metadata": {},
   "outputs": [],
   "source": [
    "printCycles = [40, 80, 120, 160, 200, 240]\n",
    "def checkCycle():   \n",
    "    #print(\"Checking cycle\" + str(cyclesDone))\n",
    "    #print(\"X value: \" + str(x))      \n",
    "    #print(\"Strength: \" + str(cyclesDone*x))      \n",
    "    \n",
    "    if abs(cyclesDone%40 - (x+1)) <= 1:\n",
    "        print(\"#\", end=\"\")\n",
    "    else:\n",
    "        print(\".\", end=\"\")        \n",
    "    \n",
    "    if cyclesDone in printCycles:\n",
    "        #print(\"Checking cycle\" + str(cyclesDone))\n",
    "        #print(\"X value: \" + str(x))      \n",
    "        #print(\"Strength: \" + str(cyclesDone*x))      \n",
    "        print(\"\")\n",
    "        return cyclesDone * x    \n",
    "    return 0"
   ]
  },
  {
   "cell_type": "code",
   "execution_count": 162,
   "id": "1410cc98",
   "metadata": {},
   "outputs": [
    {
     "name": "stdout",
     "output_type": "stream",
     "text": [
      "###..#..#.#....#..#...##..##..####..##..\n",
      "#..#.#..#.#....#..#....#.#..#....#.#..##\n",
      "#..#.####.#....####....#.#......#..#..#.\n",
      "###..#..#.#....#..#....#.#.##..#...####.\n",
      "#....#..#.#....#..#.#..#.#..#.#....#..#.\n",
      "#....#..#.####.#..#..##...###.####.#..#.\n"
     ]
    },
    {
     "data": {
      "text/plain": [
       "20840"
      ]
     },
     "execution_count": 162,
     "metadata": {},
     "output_type": "execute_result"
    }
   ],
   "source": [
    "cyclesDone = 0\n",
    "x = 1\n",
    "signalStrength = 0\n",
    "for line in lines:\n",
    "    #print(\"\")\n",
    "    if line[:4] == 'addx':\n",
    "        value = int(line[5:])\n",
    "            \n",
    "        cyclesDone += 1                    \n",
    "        signalStrength += checkCycle()            \n",
    "        \n",
    "        cyclesDone += 1                \n",
    "        signalStrength += checkCycle()            \n",
    "        \n",
    "        x += value        \n",
    "        #print(line[:-1] + \" cycles \" + str(cyclesDone-1) + \" and \" + str(cyclesDone) + \" x value: \" + str(x))        \n",
    "    elif line[:4] == 'noop':     \n",
    "        cyclesDone += 1           \n",
    "        signalStrength += checkCycle()              \n",
    "        #print(line)   \n",
    "    else: \n",
    "        print(\"Problééém\")\n",
    "signalStrength"
   ]
  },
  {
   "cell_type": "code",
   "execution_count": null,
   "id": "6b388e9b",
   "metadata": {},
   "outputs": [],
   "source": [
    "PHLHJGZA\n"
   ]
  }
 ],
 "metadata": {
  "kernelspec": {
   "display_name": "Python 3 (ipykernel)",
   "language": "python",
   "name": "python3"
  },
  "language_info": {
   "codemirror_mode": {
    "name": "ipython",
    "version": 3
   },
   "file_extension": ".py",
   "mimetype": "text/x-python",
   "name": "python",
   "nbconvert_exporter": "python",
   "pygments_lexer": "ipython3",
   "version": "3.9.6"
  }
 },
 "nbformat": 4,
 "nbformat_minor": 5
}

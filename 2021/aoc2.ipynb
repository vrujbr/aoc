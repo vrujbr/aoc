{
 "cells": [
  {
   "cell_type": "code",
   "execution_count": 15,
   "id": "2f9b0a27",
   "metadata": {},
   "outputs": [],
   "source": [
    "file = open('input2', 'r')\n",
    "lines = file.read().splitlines()"
   ]
  },
  {
   "cell_type": "markdown",
   "id": "63c57495",
   "metadata": {},
   "source": [
    "### Part one"
   ]
  },
  {
   "cell_type": "code",
   "execution_count": 16,
   "id": "aee285dc",
   "metadata": {},
   "outputs": [
    {
     "name": "stdout",
     "output_type": "stream",
     "text": [
      "(1857, 894)\n"
     ]
    },
    {
     "data": {
      "text/plain": [
       "1660158"
      ]
     },
     "execution_count": 16,
     "metadata": {},
     "output_type": "execute_result"
    }
   ],
   "source": [
    "h = 0\n",
    "d = 0\n",
    "for line in lines:\n",
    "    if line[0] == 'f':\n",
    "        h += int(line[-1])\n",
    "    elif line[0] == 'd':        \n",
    "        d += int(line[-1])\n",
    "    elif line[0] == 'u':        \n",
    "        d -= int(line[-1])        \n",
    "print((h,d))\n",
    "h*d"
   ]
  },
  {
   "cell_type": "markdown",
   "id": "06ce382c",
   "metadata": {},
   "source": [
    "### Part two"
   ]
  },
  {
   "cell_type": "code",
   "execution_count": 17,
   "id": "65d82fc3",
   "metadata": {},
   "outputs": [
    {
     "name": "stdout",
     "output_type": "stream",
     "text": [
      "(1857, 864078)\n"
     ]
    },
    {
     "data": {
      "text/plain": [
       "1604592846"
      ]
     },
     "execution_count": 17,
     "metadata": {},
     "output_type": "execute_result"
    }
   ],
   "source": [
    "h = 0\n",
    "a = 0\n",
    "d = 0\n",
    "for line in lines:\n",
    "    if line[0] == 'f':\n",
    "        h += int(line[-1])\n",
    "        d += a*int(line[-1])\n",
    "    elif line[0] == 'd':        \n",
    "        a += int(line[-1])\n",
    "    elif line[0] == 'u':        \n",
    "        a -= int(line[-1])        \n",
    "print((h,d))\n",
    "h*d"
   ]
  }
 ],
 "metadata": {
  "kernelspec": {
   "display_name": "Python 3 (ipykernel)",
   "language": "python",
   "name": "python3"
  },
  "language_info": {
   "codemirror_mode": {
    "name": "ipython",
    "version": 3
   },
   "file_extension": ".py",
   "mimetype": "text/x-python",
   "name": "python",
   "nbconvert_exporter": "python",
   "pygments_lexer": "ipython3",
   "version": "3.9.6"
  }
 },
 "nbformat": 4,
 "nbformat_minor": 5
}

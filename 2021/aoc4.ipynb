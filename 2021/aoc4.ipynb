{
 "cells": [
  {
   "cell_type": "code",
   "execution_count": 146,
   "id": "8c76a744",
   "metadata": {},
   "outputs": [],
   "source": [
    "import re\n",
    "file = open('input4', 'r')\n",
    "lines = file.read().splitlines()"
   ]
  },
  {
   "cell_type": "code",
   "execution_count": 147,
   "id": "83105420",
   "metadata": {},
   "outputs": [
    {
     "name": "stdout",
     "output_type": "stream",
     "text": [
      "[93, 49, 16, 88, 4, 92, 23, 38, 44, 98, 97, 8, 5, 69, 41, 70, 19, 11, 29, 40, 90, 43, 79, 96, 68, 10, 31, 35, 34, 32, 0, 67, 83, 33, 2, 76, 24, 87, 99, 77, 82, 66, 12, 15, 28, 59, 64, 95, 91, 71, 62, 22, 53, 46, 39, 81, 75, 86, 74, 56, 50, 18, 17, 73, 13, 54, 60, 48, 21, 51, 52, 55, 85, 80, 30, 36, 47, 3, 26, 57, 84, 25, 63, 27, 37, 94, 7, 45, 58, 9, 78, 65, 72, 6, 14, 61, 20, 1, 42, 89]\n"
     ]
    }
   ],
   "source": [
    "numbersDrawn = list(map(int, lines[0].split(',')))\n",
    "print(numbersDrawn)\n",
    "\n",
    "boards = []\n",
    "currentBoard = []\n",
    "for line in lines[2:]:\n",
    "    if line == '':\n",
    "        boards.append(currentBoard)\n",
    "        currentBoard = []\n",
    "    else:\n",
    "        currentBoard.append([int(val) for val in re.findall('\\d+', line)])\n",
    "boards.append(currentBoard)        "
   ]
  },
  {
   "cell_type": "code",
   "execution_count": 148,
   "id": "15cbae2e",
   "metadata": {},
   "outputs": [],
   "source": [
    "def boardWon(board):\n",
    "    for y in range(5):\n",
    "        isMarked = True\n",
    "        for x in range(5):\n",
    "            isMarked = isMarked and board[y][x] == None\n",
    "        if isMarked:\n",
    "            return True\n",
    "    for x in range(5):\n",
    "        isMarked = True\n",
    "        for y in range(5):\n",
    "            isMarked = isMarked and board[y][x] == None\n",
    "        if isMarked:\n",
    "            return True   \n",
    "    return False\n",
    "\n",
    "def markNumber(number, board):\n",
    "    for y in range(5):\n",
    "        for x in range(5):\n",
    "            if board[y][x] == number:\n",
    "                board[y][x] = None\n",
    "                \n",
    "def sumBoard(board):\n",
    "    result = 0\n",
    "    for y in range(5):\n",
    "        for x in range(5):\n",
    "            if board[y][x] != None:\n",
    "                result += board[y][x]\n",
    "    return result"
   ]
  },
  {
   "cell_type": "code",
   "execution_count": 116,
   "id": "ee547895",
   "metadata": {},
   "outputs": [
    {
     "name": "stdout",
     "output_type": "stream",
     "text": [
      "4512\n"
     ]
    }
   ],
   "source": [
    "for number in numbersDrawn:\n",
    "    for board in boards:\n",
    "        markNumber(number, board)\n",
    "        if boardWon(board):\n",
    "            print(number * sumBoard(board))\n",
    "            break\n",
    "    else:\n",
    "        continue\n",
    "    break"
   ]
  },
  {
   "cell_type": "code",
   "execution_count": 149,
   "id": "b3001100",
   "metadata": {},
   "outputs": [
    {
     "name": "stdout",
     "output_type": "stream",
     "text": [
      "[[None, None, None, 14, None], [None, None, None, None, None], [58, None, None, None, 42], [None, None, None, None, 61], [None, 1, None, None, 45]]\n",
      "94\n",
      "221\n",
      "20774\n"
     ]
    }
   ],
   "source": [
    "winCount = 0\n",
    "for number in numbersDrawn:\n",
    "    for boardIndex, board in enumerate(boards):\n",
    "        if board == None:\n",
    "            continue\n",
    "        markNumber(number, board)\n",
    "        if boardWon(board):\n",
    "            winCount += 1        \n",
    "            if winCount == len(boards):\n",
    "                print(board)\n",
    "                print(number)\n",
    "                print(sumBoard(board))                \n",
    "                print(number * sumBoard(board))\n",
    "                break    \n",
    "            boards[boardIndex] = None\n",
    "    else:\n",
    "        continue\n",
    "    break"
   ]
  }
 ],
 "metadata": {
  "kernelspec": {
   "display_name": "Python 3 (ipykernel)",
   "language": "python",
   "name": "python3"
  },
  "language_info": {
   "codemirror_mode": {
    "name": "ipython",
    "version": 3
   },
   "file_extension": ".py",
   "mimetype": "text/x-python",
   "name": "python",
   "nbconvert_exporter": "python",
   "pygments_lexer": "ipython3",
   "version": "3.9.6"
  }
 },
 "nbformat": 4,
 "nbformat_minor": 5
}

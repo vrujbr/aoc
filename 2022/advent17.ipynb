{
 "cells": [
  {
   "cell_type": "code",
   "execution_count": 292,
   "id": "44bcf15c",
   "metadata": {},
   "outputs": [],
   "source": [
    "import re\n",
    "import math\n",
    "file = open('input17', 'r')\n",
    "jet = [(-1, 0) if direction == '<' else (1, 0) for direction in file.read().splitlines()[0]]"
   ]
  },
  {
   "cell_type": "code",
   "execution_count": 293,
   "id": "d400ecce",
   "metadata": {},
   "outputs": [],
   "source": [
    "rocks = [\n",
    "    [(0,0), (1,0), (2,0), (3,0)], #line\n",
    "    [(1,0), (0,1), (1,1), (2,1), (1,2)], #cross\n",
    "    [(0,0), (1,0), (2,0), (2, 1), (2,2)], #J\n",
    "    [(0,0), (0,1), (0,2), (0,3)], #I\n",
    "    [(0,0), (1,0), (0,1), (1,1)] #rectangle\n",
    "]"
   ]
  },
  {
   "cell_type": "code",
   "execution_count": 294,
   "id": "499d756a",
   "metadata": {},
   "outputs": [],
   "source": [
    "def sumV(a, b, c = (0, 0)):\n",
    "    return (a[0] + b[0] + c[0], a[1] + b[1] + c[1])"
   ]
  },
  {
   "cell_type": "code",
   "execution_count": 295,
   "id": "12954008",
   "metadata": {},
   "outputs": [],
   "source": [
    "def canMoveRock(rock, pos, cave, direction):\n",
    "    isOk = True\n",
    "    for part in rock:\n",
    "        newPartPos = sumV(pos, part, direction)\n",
    "        isOk = isOk and newPartPos[0] < 7 and newPartPos[0] >= 0 and newPartPos[1] >= 0\n",
    "        try:\n",
    "            isOk = isOk and not cave[newPartPos[1]][newPartPos[0]]\n",
    "        except IndexError: pass\n",
    "    return isOk"
   ]
  },
  {
   "cell_type": "code",
   "execution_count": 305,
   "id": "5dc0f6ba",
   "metadata": {},
   "outputs": [
    {
     "name": "stdout",
     "output_type": "stream",
     "text": [
      "3059\n"
     ]
    }
   ],
   "source": [
    "cave = []\n",
    "jetIndex = 0\n",
    "newY = -1\n",
    "commonIndexes = []\n",
    "for rockIndex in range(2022):    \n",
    "    \n",
    "    #Part two\n",
    "    #newIndex = (rockIndex % len(rocks), jetIndex%len(jet))\n",
    "    #if newIndex ==  (2, 934): #(0,2):\n",
    "    #    print(\"rock index: \" + str(rockIndex) + \" \" + str(newY+1))    \n",
    "    #if newIndex in commonIndexes:\n",
    "    #    print(\"Commont index:\" + str(newIndex) +\" at\" + str(rockIndex))\n",
    "    #commonIndexes.append(newIndex)    \n",
    "    rockPos = (2, newY+4)  \n",
    "    \n",
    "    #print(\"New rock at \" + str(rockPos))\n",
    "    for y in range(newY+6, -1, -1):\n",
    "        if len(cave) < y:\n",
    "            for row in range(len(cave), y):\n",
    "                cave.append([False]*7)\n",
    "\n",
    "        rock = rocks[rockIndex % len(rocks)]\n",
    "\n",
    "        #Move by jet    \n",
    "        jetDirection = jet[jetIndex % len(jet)]\n",
    "        if canMoveRock(rock, rockPos, cave, jetDirection):\n",
    "            rockPos = sumV(rockPos, jetDirection)\n",
    "            #print(\"moved to \" + str(rockPos))\n",
    "        else:\n",
    "            #print(\"not moved\") \n",
    "            pass\n",
    "        jetIndex += 1          \n",
    "\n",
    "        #Move down\n",
    "        if canMoveRock(rock, rockPos, cave, (0, -1)):       \n",
    "            rockPos = sumV(rockPos, (0, -1))\n",
    "            #print(\"dropped down to\" + str(rockPos))         \n",
    "        else:\n",
    "            #Save rock \n",
    "            for rockPart in rock:\n",
    "                newCavePart = sumV(rockPos, rockPart)\n",
    "                #print(\"Saving part \" + str(newCavePart))\n",
    "                cave[newCavePart[1]][newCavePart[0]] = True\n",
    "                newY = max(newY, newCavePart[1])\n",
    "            #print(\"laying still\")\n",
    "            break\n",
    "          \n",
    "    \n",
    "#cave.reverse()\n",
    "#[['#' if x else '.' for x in row] for row in cave]\n",
    "print(newY + 1)"
   ]
  },
  {
   "cell_type": "markdown",
   "id": "c86d64d8",
   "metadata": {},
   "source": [
    "##### Část 2, test\n",
    "výška bloku: 53\n",
    "\n",
    "kamenů v bloku: 35\n",
    "\n",
    "Výška 57 bloků je 57 * 53, zbývá 27 kamenů - výška 47\n",
    "\n",
    "*Dohromady  3068*\n",
    "\n",
    "Výška od kemenu 15 do 1000000000000 je 28571428571 * 53\n",
    "\n",
    "Do kamenu 15 25\n",
    "\n",
    "Dohromady 1514285714288\n",
    "\n",
    "##### Část 2, input\n",
    "výška bloku: 2574\n",
    "\n",
    "kamenů v bloku: 1715\n",
    "\n",
    "583090377 bloků po 1715 kamenech (999999996555 kamenů, zbývá 3445)\n",
    "```\n",
    "Výška 583090377 kamenů je 583090379 * 2574 (=1500874630398)\n",
    "Výška 3445 kamenů je 5189\n",
    "```"
   ]
  },
  {
   "cell_type": "code",
   "execution_count": 304,
   "id": "90a5c460",
   "metadata": {},
   "outputs": [
    {
     "data": {
      "text/plain": [
       "1500874635587"
      ]
     },
     "execution_count": 304,
     "metadata": {},
     "output_type": "execute_result"
    }
   ],
   "source": [
    "583090377 * 2574 + 5189"
   ]
  }
 ],
 "metadata": {
  "kernelspec": {
   "display_name": "Python 3 (ipykernel)",
   "language": "python",
   "name": "python3"
  },
  "language_info": {
   "codemirror_mode": {
    "name": "ipython",
    "version": 3
   },
   "file_extension": ".py",
   "mimetype": "text/x-python",
   "name": "python",
   "nbconvert_exporter": "python",
   "pygments_lexer": "ipython3",
   "version": "3.9.6"
  }
 },
 "nbformat": 4,
 "nbformat_minor": 5
}

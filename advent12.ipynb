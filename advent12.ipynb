{
 "cells": [
  {
   "cell_type": "code",
   "execution_count": 29,
   "id": "e4b18b69",
   "metadata": {},
   "outputs": [],
   "source": [
    "class Node:\n",
    "    def __init__(self, position, value, depth):\n",
    "        self.position = position\n",
    "        self.value = value\n",
    "        self.depth = depth"
   ]
  },
  {
   "cell_type": "code",
   "execution_count": 30,
   "id": "ae275429",
   "metadata": {},
   "outputs": [],
   "source": [
    "file = open('input12', 'r')\n",
    "data = []\n",
    "lines = file.readlines()\n",
    "\n",
    "for line in lines:\n",
    "    data.append([char for char in line[:-1]])"
   ]
  },
  {
   "cell_type": "code",
   "execution_count": 31,
   "id": "4ab1eb53",
   "metadata": {},
   "outputs": [],
   "source": [
    "def canAddNode(node, destPos):\n",
    "    destValue = data[destPos[0]][destPos[1]]\n",
    "    if destValue == \".\" or \\\n",
    "        ord(destValue) > ord(node.value)+1 or \\\n",
    "        (destValue == 'E' and not (node.value == 'z' or node.value == 'y' )):      \n",
    "        return False  \n",
    "    return True"
   ]
  },
  {
   "cell_type": "code",
   "execution_count": 32,
   "id": "537ba240",
   "metadata": {
    "scrolled": true
   },
   "outputs": [
    {
     "data": {
      "text/plain": [
       "451"
      ]
     },
     "execution_count": 32,
     "metadata": {},
     "output_type": "execute_result"
    }
   ],
   "source": [
    "depths = []\n",
    "\n",
    "for i in range(len(data)):\n",
    "    for j in range(len(data[0])): \n",
    "        data = []\n",
    "        for line in lines:\n",
    "            data.append([char for char in line[:-1]])     \n",
    "            \n",
    "        if not data[i][j] == 'a': \n",
    "            continue            \n",
    "            \n",
    "        queue = [Node((i, j), 'a', 0)]\n",
    "        #mark visited\n",
    "        data[i][j] = '.'\n",
    "\n",
    "        maxX = len(data)-1\n",
    "        maxY = len(data[0])-1\n",
    "\n",
    "        while len(queue) > 0:    \n",
    "            curNode = queue.pop(0)        \n",
    "            x = curNode.position[0]\n",
    "            y = curNode.position[1]   \n",
    "\n",
    "            if curNode.value == 'E':\n",
    "                depths.append(curNode.depth)\n",
    "                queue = []\n",
    "            else:        \n",
    "                for pos in [(min(x+1, maxX), y), \n",
    "                            (x, min(y+1, maxY)),\n",
    "                            (max(x-1, 0), y),\n",
    "                            (x, max(y-1, 0))\n",
    "                             ]:\n",
    "                    if canAddNode(curNode, pos):\n",
    "                        queue.append(Node(pos, data[pos[0]][pos[1]], curNode.depth+1))\n",
    "                        data[pos[0]][pos[1]] = '.'    \n",
    "min(depths)                        "
   ]
  }
 ],
 "metadata": {
  "kernelspec": {
   "display_name": "Python 3 (ipykernel)",
   "language": "python",
   "name": "python3"
  },
  "language_info": {
   "codemirror_mode": {
    "name": "ipython",
    "version": 3
   },
   "file_extension": ".py",
   "mimetype": "text/x-python",
   "name": "python",
   "nbconvert_exporter": "python",
   "pygments_lexer": "ipython3",
   "version": "3.9.6"
  }
 },
 "nbformat": 4,
 "nbformat_minor": 5
}

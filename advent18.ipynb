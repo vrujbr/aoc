{
 "cells": [
  {
   "cell_type": "code",
   "execution_count": 104,
   "id": "c5de46fb",
   "metadata": {},
   "outputs": [],
   "source": [
    "import re\n",
    "import math\n",
    "file = open('input18', 'r')\n",
    "lines = file.read().splitlines()"
   ]
  },
  {
   "cell_type": "code",
   "execution_count": 105,
   "id": "dfd1e3be",
   "metadata": {},
   "outputs": [],
   "source": [
    "def sumV(a, b):\n",
    "    return [a[0] + b[0], a[1] + b[1], a[2] + b[2]]"
   ]
  },
  {
   "cell_type": "code",
   "execution_count": null,
   "id": "c54e7b2c",
   "metadata": {},
   "outputs": [],
   "source": [
    "droplets = []\n",
    "for line in lines:    \n",
    "    droplets.append([int(x) for x in line.split(',')])\n",
    "len(droplets)"
   ]
  },
  {
   "cell_type": "code",
   "execution_count": 123,
   "id": "f71c57ef",
   "metadata": {},
   "outputs": [
    {
     "data": {
      "text/plain": [
       "3466"
      ]
     },
     "execution_count": 123,
     "metadata": {},
     "output_type": "execute_result"
    }
   ],
   "source": [
    "openSides = 0\n",
    "directions = [[1,0,0],[0,1,0],[0,0,1],[-1,0,0],[0,-1,0],[0,0,-1]]\n",
    "for droplet in droplets:\n",
    "    suspisions = [sumV(direction, droplet) for direction in directions]\n",
    "    openSides += sum([0 if (suspision in droplets) else 1 for suspision in suspisions])\n",
    "openSides"
   ]
  },
  {
   "cell_type": "code",
   "execution_count": 108,
   "id": "a7ba0087",
   "metadata": {},
   "outputs": [],
   "source": [
    "directions = [[1,0,0],[0,1,0],[0,0,1],[-1,0,0],[0,-1,0],[0,0,-1]]\n",
    "def reachable(bubble, visited):        \n",
    "    if bubble[0] <= 1 or bubble[1] <= 1 or bubble[2] <= 1 or \\\n",
    "       bubble[0] >= spaceSize[0] or bubble[1] >= spaceSize[1] or bubble[2] >= spaceSize[2]:\n",
    "        return True\n",
    "    else:\n",
    "        suspisions = [sumV(direction, bubble) for direction in directions]\n",
    "        visited.append(bubble)\n",
    "        for suspision in suspisions:\n",
    "            if not suspision in droplets and not suspision in visited:\n",
    "                if reachable(suspision, visited):\n",
    "                    return True\n",
    "        return False                "
   ]
  },
  {
   "cell_type": "code",
   "execution_count": 109,
   "id": "a599f9a6",
   "metadata": {},
   "outputs": [],
   "source": [
    "#Part two\n",
    "spaceSize = [18, 18, 19]\n",
    "#spaceSize = [3, 3, 6]\n",
    "unreachableCubes = []\n",
    "for z in range(1, spaceSize[2]+1):\n",
    "    for y in range(1,spaceSize[1]+1):\n",
    "        for x in range(1,spaceSize[1]+1):            \n",
    "            bubble = [x,y,z]\n",
    "            if bubble in droplets:\n",
    "                continue\n",
    "                \n",
    "            if not reachable(bubble, []):\n",
    "                unreachableCubes.append(bubble)\n",
    "#Disclaimer: this is super not-effective but it ran like 3 mins so what"
   ]
  },
  {
   "cell_type": "code",
   "execution_count": 125,
   "id": "20037c84",
   "metadata": {},
   "outputs": [
    {
     "data": {
      "text/plain": [
       "1454"
      ]
     },
     "execution_count": 125,
     "metadata": {},
     "output_type": "execute_result"
    }
   ],
   "source": [
    "openSides = 0\n",
    "directions = [[1,0,0],[0,1,0],[0,0,1],[-1,0,0],[0,-1,0],[0,0,-1]]\n",
    "for droplet in unreachableCubes:\n",
    "    suspisions = [sumV(direction, droplet) for direction in directions]\n",
    "    openSides += sum([0 if (suspision in unreachableCubes) else 1 for suspision in suspisions])\n",
    "openSides"
   ]
  },
  {
   "cell_type": "code",
   "execution_count": 126,
   "id": "21ab334e",
   "metadata": {},
   "outputs": [
    {
     "data": {
      "text/plain": [
       "2012"
      ]
     },
     "execution_count": 126,
     "metadata": {},
     "output_type": "execute_result"
    }
   ],
   "source": [
    "3466 - openSides"
   ]
  }
 ],
 "metadata": {
  "kernelspec": {
   "display_name": "Python 3 (ipykernel)",
   "language": "python",
   "name": "python3"
  },
  "language_info": {
   "codemirror_mode": {
    "name": "ipython",
    "version": 3
   },
   "file_extension": ".py",
   "mimetype": "text/x-python",
   "name": "python",
   "nbconvert_exporter": "python",
   "pygments_lexer": "ipython3",
   "version": "3.9.6"
  }
 },
 "nbformat": 4,
 "nbformat_minor": 5
}

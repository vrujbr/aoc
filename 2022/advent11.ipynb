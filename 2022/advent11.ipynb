{
 "cells": [
  {
   "cell_type": "code",
   "execution_count": 34,
   "id": "7314d329",
   "metadata": {},
   "outputs": [],
   "source": [
    "import math\n",
    "\n",
    "class Monkey():\n",
    "    def __init__(self, items, opearation, test):\n",
    "        self.items = items\n",
    "        self.operation = opearation\n",
    "        self.test = test"
   ]
  },
  {
   "cell_type": "code",
   "execution_count": 35,
   "id": "da305492",
   "metadata": {},
   "outputs": [
    {
     "data": {
      "text/plain": [
       "1"
      ]
     },
     "execution_count": 35,
     "metadata": {},
     "output_type": "execute_result"
    }
   ],
   "source": [
    "6 if (4 % 5 == 0) else 1"
   ]
  },
  {
   "cell_type": "code",
   "execution_count": 112,
   "id": "e47034e9",
   "metadata": {},
   "outputs": [],
   "source": [
    "monkeys = [\n",
    "    Monkey([98, 89, 52], lambda old: old * 2, lambda worryLevel: 6 if worryLevel % 5 == 0 else 1),\n",
    "    Monkey([57, 95, 80, 92, 57, 78], lambda old: old * 13, lambda worryLevel: 2 if worryLevel % 2 == 0 else 6),  \n",
    "    Monkey([82, 74, 97, 75, 51, 92, 83], lambda old: old +5, lambda worryLevel: 7 if worryLevel % 19 == 0 else 5),  \n",
    "    Monkey([97, 88, 51, 68, 76], lambda old: old +6, lambda worryLevel: 0 if worryLevel % 7 == 0 else 4),  \n",
    "    Monkey([63], lambda old: old +1, lambda worryLevel: 0 if worryLevel % 17 == 0 else 1),      \n",
    "    Monkey([94, 91, 51, 63], lambda old: old +4, lambda worryLevel: 4 if worryLevel % 13 == 0 else 3),      \n",
    "    Monkey([61, 54, 94, 71, 74, 68, 98, 83], lambda old: old +2, lambda worryLevel: 2 if worryLevel % 3 == 0 else 7),      \n",
    "    Monkey([90, 56], lambda old: old * old, lambda worryLevel: 3 if worryLevel % 11 == 0 else 5),      \n",
    "]"
   ]
  },
  {
   "cell_type": "code",
   "execution_count": 113,
   "id": "2382f450",
   "metadata": {},
   "outputs": [
    {
     "data": {
      "text/plain": [
       "[20133, 172759, 174155, 175703, 169190, 171471, 3022, 11362]"
      ]
     },
     "execution_count": 113,
     "metadata": {},
     "output_type": "execute_result"
    }
   ],
   "source": [
    "inspectCounts = [0]*8\n",
    "for round in range(10000):\n",
    "    for i in range(len(monkeys)):\n",
    "        monkey = monkeys[i]\n",
    "        for item in monkey.items:\n",
    "            #worry\n",
    "            item = monkey.operation(item) % 9699690\n",
    "            #relieve\n",
    "            #item = math.floor(item / 3)        \n",
    "            monkeys[monkey.test(item)].items.append(item)\n",
    "            #print(\"Item \" +str(item)+ \" goes to monkey number \" + str(monkey.test(item)))\n",
    "            inspectCounts[i] += 1            \n",
    "        monkey.items = []        \n",
    "inspectCounts"
   ]
  },
  {
   "cell_type": "code",
   "execution_count": 115,
   "id": "0ab7fb25",
   "metadata": {},
   "outputs": [
    {
     "name": "stdout",
     "output_type": "stream",
     "text": [
      "[3022, 11362, 20133, 169190, 171471, 172759, 174155, 175703]\n"
     ]
    },
    {
     "data": {
      "text/plain": [
       "30599555965"
      ]
     },
     "execution_count": 115,
     "metadata": {},
     "output_type": "execute_result"
    }
   ],
   "source": [
    "inspectCounts.sort()\n",
    "print(inspectCounts)\n",
    "inspectCounts[-1] * inspectCounts[-2]"
   ]
  },
  {
   "cell_type": "code",
   "execution_count": 117,
   "id": "adf7e5a9",
   "metadata": {},
   "outputs": [
    {
     "data": {
      "text/plain": [
       "16"
      ]
     },
     "execution_count": 117,
     "metadata": {},
     "output_type": "execute_result"
    }
   ],
   "source": [
    "old = 10\n",
    "expression = \"old + 6\"\n",
    "eval(expression)"
   ]
  },
  {
   "cell_type": "code",
   "execution_count": null,
   "id": "1e510b1e",
   "metadata": {},
   "outputs": [],
   "source": []
  }
 ],
 "metadata": {
  "kernelspec": {
   "display_name": "Python 3 (ipykernel)",
   "language": "python",
   "name": "python3"
  },
  "language_info": {
   "codemirror_mode": {
    "name": "ipython",
    "version": 3
   },
   "file_extension": ".py",
   "mimetype": "text/x-python",
   "name": "python",
   "nbconvert_exporter": "python",
   "pygments_lexer": "ipython3",
   "version": "3.9.6"
  }
 },
 "nbformat": 4,
 "nbformat_minor": 5
}

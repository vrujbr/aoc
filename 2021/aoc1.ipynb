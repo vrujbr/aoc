{
 "cells": [
  {
   "cell_type": "code",
   "execution_count": 20,
   "id": "42496953",
   "metadata": {},
   "outputs": [],
   "source": [
    "file = open('input1', 'r')\n",
    "lines = file.read().splitlines()\n",
    "data = [int(line) for line in lines]"
   ]
  },
  {
   "cell_type": "code",
   "execution_count": 23,
   "id": "768f1e6a",
   "metadata": {},
   "outputs": [
    {
     "name": "stdout",
     "output_type": "stream",
     "text": [
      "1704\n"
     ]
    }
   ],
   "source": [
    "prevVal = float('inf')\n",
    "countIncreased = 0\n",
    "for measurement in data:\n",
    "    if measurement > prevVal:\n",
    "        countIncreased += 1\n",
    "    prevVal = measurement\n",
    "print(countIncreased)"
   ]
  },
  {
   "cell_type": "code",
   "execution_count": 22,
   "id": "3f3b626a",
   "metadata": {},
   "outputs": [],
   "source": [
    "windows = []\n",
    "for i in range(len(lines)-2):    \n",
    "    window = data[i] + data[i+1] + data[i+2]\n",
    "    windows.append(window)\n",
    "data = windows"
   ]
  }
 ],
 "metadata": {
  "kernelspec": {
   "display_name": "Python 3 (ipykernel)",
   "language": "python",
   "name": "python3"
  },
  "language_info": {
   "codemirror_mode": {
    "name": "ipython",
    "version": 3
   },
   "file_extension": ".py",
   "mimetype": "text/x-python",
   "name": "python",
   "nbconvert_exporter": "python",
   "pygments_lexer": "ipython3",
   "version": "3.9.6"
  }
 },
 "nbformat": 4,
 "nbformat_minor": 5
}

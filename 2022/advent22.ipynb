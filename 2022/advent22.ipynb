{
 "cells": [
  {
   "cell_type": "code",
   "execution_count": 320,
   "id": "a97d3bb5",
   "metadata": {},
   "outputs": [],
   "source": [
    "import re\n",
    "import math\n",
    "import itertools\n",
    "file = open('input22', 'r')\n",
    "lines = file.read().splitlines()"
   ]
  },
  {
   "cell_type": "code",
   "execution_count": 321,
   "id": "ae6d0e60",
   "metadata": {},
   "outputs": [],
   "source": [
    "maze = lines[:lines.index('')]\n",
    "xSize = max([len(line) for line in lines[:-2]])\n",
    "for i, line in enumerate(maze):\n",
    "    maze[i] = line + ' '*(xSize-len(line))\n",
    "instructions = re.findall('\\d+|R|L', lines[-1])"
   ]
  },
  {
   "cell_type": "code",
   "execution_count": 322,
   "id": "0c47ee4a",
   "metadata": {},
   "outputs": [],
   "source": [
    "def addV(a, b):\n",
    "    return (a[0]+b[0], a[1]+b[1])    "
   ]
  },
  {
   "cell_type": "code",
   "execution_count": 323,
   "id": "2e6a4520",
   "metadata": {},
   "outputs": [],
   "source": [
    "def overflowVal(posPart, directionPart, maxValue):\n",
    "    if directionPart == 0:\n",
    "         return posPart\n",
    "    elif directionPart == 1:        \n",
    "        return 0\n",
    "    else:\n",
    "        return maxValue"
   ]
  },
  {
   "cell_type": "code",
   "execution_count": 324,
   "id": "5bac6d5f",
   "metadata": {},
   "outputs": [],
   "source": [
    "#Part 1\n",
    "def step(position, direction):\n",
    "    pos = addV(position, direction)\n",
    "    if pos[0] >= len(maze[0]) or pos[0] < 0 or \\\n",
    "       pos[1] >= len(maze) or pos[1] < 0 or \\\n",
    "       maze[pos[1]][pos[0]] == ' ':\n",
    "        pos = (overflowVal(pos[0], direction[0], len(maze[0])-1), overflowVal(pos[1], direction[1], len(maze)-1))\n",
    "        while maze[pos[1]][pos[0]] == \" \":\n",
    "            pos = addV(pos, direction)\n",
    "    return (pos, direction)"
   ]
  },
  {
   "cell_type": "code",
   "execution_count": 326,
   "id": "e24a02aa",
   "metadata": {},
   "outputs": [],
   "source": [
    "#Part 2\n",
    "def step(position, direction):\n",
    "    (x, y) = position\n",
    "    if direction == (1,0):\n",
    "        if x == 149 and y <= 49:              #zelená\n",
    "            return ((99, 149-y), (-1,0))\n",
    "        if x == 99 and y >= 50 and y <= 99:   #oranžová\n",
    "            return ((y+50, 49), (0,-1))\n",
    "        if x == 99 and y >= 100 and y <= 149: #zelená\n",
    "            return ((149, 49 - (y-100) ), (-1,0))\n",
    "        if x == 49 and y >= 150:              #sv. zelená\n",
    "            return ((50 + (y-150), 149), (0,-1))                 \n",
    "        \n",
    "    elif direction == (-1,0):\n",
    "        if x == 50 and y <= 49:               #sv. oranžová\n",
    "            return ((0, 149-y), (1,0))\n",
    "        if x == 50 and y >= 50 and y <= 99:   #modrá\n",
    "            return ((y-50, 100), (0,1))\n",
    "        if x == 0 and y >= 100 and y <= 149:  #sv. oranžová\n",
    "            return ((50, 49 - (y-100) ), (1,0)) \n",
    "        if x == 0 and y >= 150:               #rudá\n",
    "            return ((50 + (y-150), 0), (0,1))  \n",
    "        \n",
    "    elif direction == (0,1):\n",
    "        if x <= 49 and y == 199:              #žlutá\n",
    "            return ((x+100, 0), (0,1))\n",
    "        if x >= 50 and x <= 99 and y == 149:  #sv. zelená\n",
    "            return ((49, 150 + (x-50)), (-1,0))\n",
    "        if x >= 100 and x <= 149 and y == 49: #oranžová\n",
    "            return ((99, 50 + (x-100)), (-1,0))        \n",
    "        \n",
    "    elif direction == (0,-1):\n",
    "        if x <= 49 and y == 100:              #modrá\n",
    "            return ((50, 50+x), (1,0))\n",
    "        if x >= 50 and x <= 99 and y == 0:    #rudá\n",
    "            return ((0, 150 + (x-50)), (1,0))\n",
    "        if x >= 100 and x <= 149 and y == 0:  #žlutá\n",
    "            return ((x-100, 199), (0,-1))                    \n",
    "    \n",
    "    return (addV(position, direction), direction)"
   ]
  },
  {
   "cell_type": "code",
   "execution_count": null,
   "id": "f09cdd03",
   "metadata": {},
   "outputs": [],
   "source": [
    "currentPos = (0, 0)\n",
    "direction  = (1, 0)\n",
    "while not maze[currentPos[1]][currentPos[0]] == '.':\n",
    "    (currentPos, _) = step(currentPos, (1,0))\n",
    "currentPos\n",
    "\n",
    "for instruction in instructions:    \n",
    "    #turn\n",
    "    if instruction == 'R':\n",
    "        direction = (-direction[1], direction[0])\n",
    "    elif instruction == 'L':\n",
    "        direction = (direction[1], -direction[0])     \n",
    "    else:        \n",
    "        #walk\n",
    "        for _ in range(int(instruction)):\n",
    "            (newPosition, newDirection) = step(currentPos, direction)\n",
    "            if maze[newPosition[1]][newPosition[0]] != \"#\":\n",
    "                currentPos = newPosition\n",
    "                direction = newDirection                   \n",
    "    \n",
    "#password\n",
    "directionValue = abs(-direction[0]+1 - direction[1]*2)\n",
    "(currentPos[1]+1) * 1000 + (currentPos[0]+1) * 4 + directionValue"
   ]
  }
 ],
 "metadata": {
  "kernelspec": {
   "display_name": "Python 3 (ipykernel)",
   "language": "python",
   "name": "python3"
  },
  "language_info": {
   "codemirror_mode": {
    "name": "ipython",
    "version": 3
   },
   "file_extension": ".py",
   "mimetype": "text/x-python",
   "name": "python",
   "nbconvert_exporter": "python",
   "pygments_lexer": "ipython3",
   "version": "3.9.6"
  }
 },
 "nbformat": 4,
 "nbformat_minor": 5
}

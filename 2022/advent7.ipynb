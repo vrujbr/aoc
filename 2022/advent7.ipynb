{
 "cells": [
  {
   "cell_type": "code",
   "execution_count": null,
   "id": "3c4655d2",
   "metadata": {},
   "outputs": [],
   "source": [
    "class Tree:\n",
    "    def __init__(self, key, parent):\n",
    "        self.children = []\n",
    "        self.key = key\n",
    "        self.parent = parent\n",
    "        self.size = 0\n",
    "        \n",
    "    def printTree(self, indent = \"\"):\n",
    "        print(indent + self.key +\" (\" + str(self.size) + \")\")\n",
    "        for child in self.children:\n",
    "            child.printTree(indent + \"  \")\n",
    "                     \n",
    "    def sizesArray(self):\n",
    "        sizes = [self.size]\n",
    "        for child in self.children:\n",
    "            sizes.extend(child.sizesArray())\n",
    "        return sizes\n",
    "    \n",
    "    def calculateSize(self):\n",
    "        for child in self.children:\n",
    "            child.calculateSize()\n",
    "            self.size += child.size            "
   ]
  },
  {
   "cell_type": "code",
   "execution_count": null,
   "id": "73c5428b",
   "metadata": {},
   "outputs": [],
   "source": [
    "root = Tree(\"/\", None)\n",
    "a = Tree(\"a\", root)\n",
    "a.size = 100\n",
    "root.children = [a, Tree(\"b\", root)]\n",
    "root.printTree()"
   ]
  },
  {
   "cell_type": "code",
   "execution_count": null,
   "id": "8b5f717b",
   "metadata": {},
   "outputs": [],
   "source": [
    "file1 = open('input7', 'r')\n",
    "lines = file1.readlines()\n",
    "lines"
   ]
  },
  {
   "cell_type": "code",
   "execution_count": null,
   "id": "ffa1450f",
   "metadata": {},
   "outputs": [],
   "source": [
    "root = Tree(\"/\", None)\n",
    "currentNode = root\n",
    "for line in lines:\n",
    "    #print(line)\n",
    "    if line[:6] == \"$ cd /\":\n",
    "        #print(\"=====cd /=====\")\n",
    "        currentNode = root\n",
    "    elif line[:7] == \"$ cd ..\":\n",
    "        #print(\"=====cd ..=====\")\n",
    "        currentNode = currentNode.parent\n",
    "    elif line[:5] == \"$ cd \":\n",
    "        #print(\"=====cd \" + line[5:-1] +\"=====\")\n",
    "        for child in currentNode.children:\n",
    "            if child.key == line[5:-1]:\n",
    "                currentNode = child\n",
    "                break\n",
    "    elif line[:4] == \"$ ls\":\n",
    "        #print(\"=====ls=====\")\n",
    "        continue\n",
    "    elif line[:4] == \"dir \":        \n",
    "        #print(\"=====dir \"+line[4:-1]+\"=====\")        \n",
    "        newNode = Tree(line[4:-1], currentNode)\n",
    "        currentNode.children.append(newNode)\n",
    "    else:\n",
    "        #print(line.split(\" \")[0])\n",
    "        size = int(line.split(\" \")[0])\n",
    "        currentNode.size += size\n",
    "        \n",
    "root.printTree()"
   ]
  },
  {
   "cell_type": "code",
   "execution_count": null,
   "id": "3ba06878",
   "metadata": {},
   "outputs": [],
   "source": [
    "root.calculateSize()"
   ]
  },
  {
   "cell_type": "code",
   "execution_count": null,
   "id": "95d17df3",
   "metadata": {},
   "outputs": [],
   "source": [
    "root.printTree()"
   ]
  },
  {
   "cell_type": "code",
   "execution_count": null,
   "id": "d636a933",
   "metadata": {},
   "outputs": [],
   "source": [
    "remainingSpace = 70000000-root.size\n",
    "remainingSpace\n",
    "spaceNeeded = 30000000 - remainingSize\n",
    "spaceNeeded"
   ]
  },
  {
   "cell_type": "code",
   "execution_count": null,
   "id": "90b892bd",
   "metadata": {},
   "outputs": [],
   "source": [
    "totalSum = 0\n",
    "for size in root.sizesArray():\n",
    "    if size <= 100000:\n",
    "        totalSum += size\n",
    "    \n",
    "totalSum"
   ]
  },
  {
   "cell_type": "code",
   "execution_count": null,
   "id": "d5f3cf09",
   "metadata": {},
   "outputs": [],
   "source": [
    "dirsBigEnoughSizes = []\n",
    "for size in root.sizesArray():\n",
    "    if size >= spaceNeeded:\n",
    "        dirsBigEnoughSizes.append(size)\n",
    "    \n",
    "dirsBigEnoughSizes"
   ]
  },
  {
   "cell_type": "code",
   "execution_count": null,
   "id": "1c461262",
   "metadata": {},
   "outputs": [],
   "source": []
  }
 ],
 "metadata": {
  "kernelspec": {
   "display_name": "Python 3 (ipykernel)",
   "language": "python",
   "name": "python3"
  },
  "language_info": {
   "codemirror_mode": {
    "name": "ipython",
    "version": 3
   },
   "file_extension": ".py",
   "mimetype": "text/x-python",
   "name": "python",
   "nbconvert_exporter": "python",
   "pygments_lexer": "ipython3",
   "version": "3.9.6"
  }
 },
 "nbformat": 4,
 "nbformat_minor": 5
}

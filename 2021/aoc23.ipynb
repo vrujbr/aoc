{
 "cells": [
  {
   "cell_type": "code",
   "execution_count": 1026,
   "id": "5e1b3105",
   "metadata": {},
   "outputs": [],
   "source": [
    "import copy\n",
    "from IPython.display import clear_output\n",
    "import time\n",
    "from collections import defaultdict\n",
    "import numpy as np"
   ]
  },
  {
   "cell_type": "code",
   "execution_count": 1044,
   "id": "761e19c3",
   "metadata": {},
   "outputs": [],
   "source": [
    "class Amp():\n",
    "    def __init__(self, group, col, row):\n",
    "        self.group = group\n",
    "        self.col = col        \n",
    "        self.row = row\n",
    "        self.moves = 0      \n",
    "    \n",
    "    def position(self):\n",
    "        return (self.col, self.row)\n",
    "    \n",
    "    def moveTo(self, position):\n",
    "        distanceMoved = abs(self.col - position[0]) + self.row + position[1]\n",
    "        self.col = position[0]\n",
    "        self.row = position[1]\n",
    "        self.moves += 1\n",
    "        return 10**(ord(self.group)-65) * distanceMoved\n",
    "    \n",
    "    def moveEnergy(self, position):\n",
    "        distanceMoved = abs(self.col - position[0]) + self.row + position[1]\n",
    "        return 10**(ord(self.group)-65) * distanceMoved    \n",
    "    \n",
    "    def homeCol(self):\n",
    "        return (ord(self.group)-64)*2    \n",
    "    \n",
    "    def __eq__(self, other):\n",
    "        return self.position() == other.position() and self.group == other.group and self.moves == other.moves\n",
    "    \n",
    "    def __hash__(self):\n",
    "        return self.position().__hash__() + self.group.__hash__()\n",
    "    \n",
    "    def __repr__(self):\n",
    "        return self.group + str(self.position()) + str(self.moves)\n",
    "    \n",
    "def printAmps(amps):\n",
    "    for row in range(5):    \n",
    "        for col in range(11):\n",
    "            ampAtPos = [a for a in amps if (col, row) == a.position()]\n",
    "            if len(ampAtPos) > 0:\n",
    "                print(ampAtPos[0].group, end=\"\")\n",
    "            else:\n",
    "                print(\" \", end=\"\")\n",
    "        print(\"\")    "
   ]
  },
  {
   "cell_type": "code",
   "execution_count": 1053,
   "id": "d06bc1fd",
   "metadata": {},
   "outputs": [],
   "source": [
    "testAmpsFirst = [Amp(group, int(i/2)*2+2, i%2+1) for i, group in enumerate('BACDBCDA')]\n",
    "testAmpsSecond = [Amp(group, int(i/4)*2+2, i%4+1) for i, group in enumerate('BDDACCBDBBACDACA')]\n",
    "\n",
    "originalAmpsFirst = [Amp(group, int(i/2)*2+2, i%2+1) for i, group in enumerate('DCDCABAB')]\n",
    "originalAmpsSecond = [Amp(group, int(i/4)*2+2, i%4+1) for i, group in enumerate('DDDCDCBCABABAACB')]\n",
    "\n",
    "originalAmps = tuple(originalAmpsSecond)"
   ]
  },
  {
   "cell_type": "code",
   "execution_count": 1054,
   "id": "46d643bc",
   "metadata": {},
   "outputs": [
    {
     "name": "stdout",
     "output_type": "stream",
     "text": [
      "Moves: 30\n",
      "3\n",
      "4298\n",
      "           \n",
      "  A B C D  \n",
      "  A B C D  \n",
      "  A B C D  \n",
      "  A B C D  \n"
     ]
    }
   ],
   "source": [
    "solutions = []\n",
    "queue = defaultdict(lambda: ([], np.inf))\n",
    "queue[originalAmps] = ([], 0)\n",
    "i = 0\n",
    "maxRow = max([amp.row for amp in originalAmps])\n",
    "while len(queue) > 0:\n",
    "    i += 1             \n",
    "        \n",
    "    amps = next(iter(queue))\n",
    "    (moves, energy) = queue.pop(amps)\n",
    "    qLen = len(queue)              \n",
    "    \n",
    "    for ampIndex, amp in enumerate(amps):\n",
    "        if amp.moves >= 2:\n",
    "            continue\n",
    "                  \n",
    "        possiblePos = []    \n",
    "        for step, limit in [(1,10), (-1, 0)]:            \n",
    "            if len(possiblePos) > 0 and possiblePos[0][1] > 0: #already can go to home bay\n",
    "                continue\n",
    "            \n",
    "            col = amp.col\n",
    "            while col != limit:\n",
    "                col += step        \n",
    "                if (col, 0) in [otherA.position() for otherA in amps]:\n",
    "                    break #There is an amphipod at this spot\n",
    "                if len([otherA for otherA in amps if otherA.col == amp.col and otherA.row < amp.row]) > 0:            \n",
    "                    break #There is an amphipod in the way out of the hole\n",
    "\n",
    "                if col == amp.homeCol(): #move to home bay\n",
    "                    sameGroupAmpsInCol = [otherAmp.homeCol() == amp.homeCol() for otherAmp in amps if otherAmp.col == amp.homeCol()]              \n",
    "                    if all(sameGroupAmpsInCol):       \n",
    "                        #if it can move to home bay, don't try anything else\n",
    "                        possiblePos = [(col, maxRow - len(sameGroupAmpsInCol))]\n",
    "                        break\n",
    "                elif col not in [2,4,6,8] and amp.moves == 0: #move to row 0\n",
    "                    possiblePos.append((col, 0))  \n",
    "                \n",
    "        for pos in possiblePos:\n",
    "            ampsCpy = copy.deepcopy(amps)\n",
    "            move = [ampsCpy[ampIndex].position(), pos]\n",
    "            moveEnergy = ampsCpy[ampIndex].moveTo(pos)\n",
    "            (_, otherEnergy) = queue[ampsCpy]\n",
    "            if energy+moveEnergy < otherEnergy:\n",
    "                queue[ampsCpy] = (moves + [move], energy+moveEnergy)\n",
    "            \n",
    "    if i%100 == 0:\n",
    "        clear_output(wait=True)             \n",
    "        print(\"Moves: \"+ str(len(moves)))\n",
    "        print(len(queue))\n",
    "        print(len(solutions))   \n",
    "        printAmps(ampsCpy)                \n",
    "    \n",
    "    if qLen == len(queue):    \n",
    "        if all([amp.homeCol() == amp.col for amp in amps]):\n",
    "            solutions.append((moves, energy))"
   ]
  },
  {
   "cell_type": "code",
   "execution_count": 1055,
   "id": "c2b74c65",
   "metadata": {},
   "outputs": [
    {
     "data": {
      "text/plain": [
       "43413"
      ]
     },
     "execution_count": 1055,
     "metadata": {},
     "output_type": "execute_result"
    }
   ],
   "source": [
    "min([energy for (moves, energy) in solutions])"
   ]
  }
 ],
 "metadata": {
  "kernelspec": {
   "display_name": "Python 3 (ipykernel)",
   "language": "python",
   "name": "python3"
  },
  "language_info": {
   "codemirror_mode": {
    "name": "ipython",
    "version": 3
   },
   "file_extension": ".py",
   "mimetype": "text/x-python",
   "name": "python",
   "nbconvert_exporter": "python",
   "pygments_lexer": "ipython3",
   "version": "3.9.6"
  }
 },
 "nbformat": 4,
 "nbformat_minor": 5
}

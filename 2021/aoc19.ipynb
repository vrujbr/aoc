{
 "cells": [
  {
   "cell_type": "code",
   "execution_count": 12,
   "id": "18031460",
   "metadata": {},
   "outputs": [],
   "source": [
    "import numpy as np\n",
    "from collections import defaultdict\n",
    "file = open('input19', 'r')\n",
    "lines = file.read().splitlines()"
   ]
  },
  {
   "cell_type": "code",
   "execution_count": 13,
   "id": "accbfb67",
   "metadata": {},
   "outputs": [],
   "source": [
    "#Calculate distance between two beacons\n",
    "def distance(beaconA, beaconB):\n",
    "    return sum(abs(a-b) for (a, b) in zip(beaconA, beaconB))"
   ]
  },
  {
   "cell_type": "code",
   "execution_count": 14,
   "id": "7187de4e",
   "metadata": {},
   "outputs": [],
   "source": [
    "inversion = np.array([[-1,0,0],\n",
    "                      [0,-1,0],\n",
    "                      [0,0,-1]])\n",
    "\n",
    "rotations = [\n",
    "np.array([[ 1, 0, 0],\n",
    "          [ 0, 1, 0],\n",
    "          [ 0, 0, 1]]),\n",
    "np.array([[ 0,-1, 0],\n",
    "          [ 1, 0, 0],\n",
    "          [ 0, 0, 1]]),\n",
    "np.array([[-1, 0, 0],\n",
    "          [ 0,-1, 0],\n",
    "          [ 0, 0, 1]]),\n",
    "np.array([[ 0, 1, 0],\n",
    "          [-1, 0, 0],\n",
    "          [ 0, 0, 1]])\n",
    "] \n",
    "directions = [\n",
    "np.array([[ 1, 0, 0],\n",
    "          [ 0, 1, 0],\n",
    "          [ 0, 0, 1]]), #z facing up\n",
    "np.array([[-1, 0, 0],\n",
    "          [ 0, 1, 0],\n",
    "          [ 0, 0,-1]]), #z facing down\n",
    "np.array([[ 0, 0,-1],\n",
    "          [ 0, 1, 0],\n",
    "          [ 1, 0, 0]]), #z facing right\n",
    "np.array([[ 0, 0, 1],\n",
    "          [ 0, 1, 0],\n",
    "          [-1, 0, 0]]), #z facing left\n",
    "np.array([[ 1, 0, 0],\n",
    "          [ 0, 0,-1],\n",
    "          [ 0, 1, 0]]), #z facing front\n",
    "np.array([[ 1, 0, 0],\n",
    "          [ 0, 0, 1],\n",
    "          [ 0,-1, 0]])  #z facing back\n",
    "]\n",
    "projections = [r @ d for d in directions for r in rotations]"
   ]
  },
  {
   "cell_type": "code",
   "execution_count": 15,
   "id": "bc019469",
   "metadata": {
    "scrolled": false
   },
   "outputs": [],
   "source": [
    "scanners = []\n",
    "beacons = []\n",
    "for line in lines[1:]:\n",
    "    if line[:3] == '---':\n",
    "        scanners.append(beacons)\n",
    "        beacons = []\n",
    "    elif line == '':\n",
    "        continue\n",
    "    else:\n",
    "        beacon = np.array([int(x) for x in line.split(',')])\n",
    "        beacons.append(beacon)\n",
    "scanners.append(beacons)    \n",
    "\n",
    "distances = []\n",
    "for scanner in scanners:\n",
    "    singleScannerDistances = []\n",
    "    for a, beaconA in enumerate(scanner):\n",
    "        for b, beaconB in enumerate(scanner[:a]):\n",
    "            d = distance(beaconA, beaconB)\n",
    "            singleScannerDistances.append((d, a, b))\n",
    "    distances.append(singleScannerDistances)  "
   ]
  },
  {
   "cell_type": "code",
   "execution_count": 29,
   "id": "2eaed09d",
   "metadata": {
    "scrolled": false
   },
   "outputs": [
    {
     "name": "stdout",
     "output_type": "stream",
     "text": [
      "Scanners used: 2 map size: 40\n",
      "Scanners used: 3 map size: 54\n",
      "Scanners used: 4 map size: 68\n",
      "Scanners used: 6 map size: 93\n",
      "Scanners used: 7 map size: 107\n",
      "Scanners used: 9 map size: 135\n",
      "Scanners used: 10 map size: 149\n",
      "Scanners used: 12 map size: 170\n",
      "Scanners used: 13 map size: 181\n",
      "Scanners used: 15 map size: 206\n",
      "Scanners used: 16 map size: 220\n",
      "Scanners used: 17 map size: 234\n",
      "Scanners used: 18 map size: 248\n",
      "Scanners used: 19 map size: 255\n",
      "Scanners used: 20 map size: 269\n",
      "Scanners used: 21 map size: 282\n",
      "Scanners used: 23 map size: 308\n",
      "Scanners used: 24 map size: 322\n",
      "Scanners used: 25 map size: 336\n",
      "Scanners used: 27 map size: 355\n",
      "Scanners used: 28 map size: 368\n",
      "Scanners used: 29 map size: 379\n",
      "Scanners used: 30 map size: 390\n"
     ]
    }
   ],
   "source": [
    "beaconsMap = scanners[0].copy()\n",
    "usedScannerNumbers = [0]\n",
    "scannersLocations = [np.array([0,0,0])]*len(scanners)\n",
    "\n",
    "while len(usedScannerNumbers) < len(scanners):\n",
    "    #Calculate distances in beacons map\n",
    "    beaconsMapDistances = defaultdict(list)\n",
    "    for a, beaconA in enumerate(beaconsMap):\n",
    "        for b, beaconB in enumerate(beaconsMap[:a]):\n",
    "            d = distance(beaconA, beaconB)\n",
    "            beaconsMapDistances[d] = beaconsMapDistances[d] + [(a,b)]        \n",
    "    \n",
    "    for scannerNumber in list(range(1, len(scanners))):\n",
    "        if scannerNumber in usedScannerNumbers:\n",
    "            continue\n",
    "        for projection in projections: \n",
    "            matchingBeacons = set()\n",
    "            scannerOffset = None\n",
    "            for scannerDistances in distances[scannerNumber]:\n",
    "                sBeaconA = projection @ scanners[scannerNumber][scannerDistances[1]]\n",
    "                sBeaconB = projection @ scanners[scannerNumber][scannerDistances[2]]\n",
    "                sBeaconVector = sBeaconB - sBeaconA      \n",
    "                \n",
    "                for beaconAIndex, beaconBIndex in beaconsMapDistances[scannerDistances[0]]:    \n",
    "                    mapBeaconA = beaconsMap[beaconAIndex]\n",
    "                    mapBeaconB = beaconsMap[beaconBIndex]\n",
    "                    mapBeaconVector = mapBeaconB - mapBeaconA                         \n",
    "\n",
    "                    if (mapBeaconVector == sBeaconVector).all() or (mapBeaconVector == (inversion @ sBeaconVector) ).all():\n",
    "                        matchingBeacons.add(tuple(mapBeaconA))\n",
    "                        matchingBeacons.add(tuple(mapBeaconB))    \n",
    "                        if (mapBeaconVector == sBeaconVector).all():\n",
    "                            scannerOffset = sBeaconA - mapBeaconA\n",
    "                        else:\n",
    "                            scannerOffset = sBeaconB - mapBeaconA\n",
    "\n",
    "            if len(matchingBeacons) >= 12:\n",
    "                beaconsProjected = [(projection @ beacon) - scannerOffset for beacon in scanners[scannerNumber]]\n",
    "                beaconsMap = np.append(beaconsMap, beaconsProjected, axis=0)\n",
    "                beaconsMap = np.unique(beaconsMap, axis=0)            \n",
    "                usedScannerNumbers.append(scannerNumber)   \n",
    "                scannersLocations[scannerNumber] = -scannerOffset\n",
    "                break\n",
    "\n",
    "    print(\"Scanners used: \" + str(len(usedScannerNumbers)) + \" map size: \" + str(len(beaconsMap)))"
   ]
  },
  {
   "cell_type": "code",
   "execution_count": 28,
   "id": "bcaba88c",
   "metadata": {},
   "outputs": [
    {
     "data": {
      "text/plain": [
       "13327"
      ]
     },
     "execution_count": 28,
     "metadata": {},
     "output_type": "execute_result"
    }
   ],
   "source": [
    "max([distance(a,b) for a in scannersLocations for b in scannersLocations])"
   ]
  }
 ],
 "metadata": {
  "kernelspec": {
   "display_name": "Python 3 (ipykernel)",
   "language": "python",
   "name": "python3"
  },
  "language_info": {
   "codemirror_mode": {
    "name": "ipython",
    "version": 3
   },
   "file_extension": ".py",
   "mimetype": "text/x-python",
   "name": "python",
   "nbconvert_exporter": "python",
   "pygments_lexer": "ipython3",
   "version": "3.9.6"
  }
 },
 "nbformat": 4,
 "nbformat_minor": 5
}

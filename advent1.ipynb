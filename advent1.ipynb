{
 "cells": [
  {
   "cell_type": "code",
   "execution_count": null,
   "id": "c3237eaf",
   "metadata": {},
   "outputs": [],
   "source": [
    "file1 = open('input1', 'r')\n",
    "lines = file1.readlines()\n",
    "lines"
   ]
  },
  {
   "cell_type": "code",
   "execution_count": null,
   "id": "7cd67812",
   "metadata": {},
   "outputs": [],
   "source": [
    "sums = []\n",
    "sum = 0\n",
    "for line in lines:\n",
    "    if line == \"\\n\":\n",
    "        sums.append(sum)\n",
    "        sum = 0\n",
    "    else:\n",
    "        sum += int(line)\n",
    "        \n",
    "sortedSums = sorted(sums)\n",
    "sortedSums[-1] + sortedSums[-2] + sortedSums[-3]"
   ]
  },
  {
   "cell_type": "code",
   "execution_count": null,
   "id": "55a220f4",
   "metadata": {},
   "outputs": [],
   "source": []
  }
 ],
 "metadata": {
  "kernelspec": {
   "display_name": "Python 3 (ipykernel)",
   "language": "python",
   "name": "python3"
  },
  "language_info": {
   "codemirror_mode": {
    "name": "ipython",
    "version": 3
   },
   "file_extension": ".py",
   "mimetype": "text/x-python",
   "name": "python",
   "nbconvert_exporter": "python",
   "pygments_lexer": "ipython3",
   "version": "3.9.6"
  }
 },
 "nbformat": 4,
 "nbformat_minor": 5
}

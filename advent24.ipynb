{
 "cells": [
  {
   "cell_type": "code",
   "execution_count": 122,
   "id": "643a4f14",
   "metadata": {},
   "outputs": [],
   "source": [
    "from collections import namedtuple\n",
    "\n",
    "file = open('input24', 'r')\n",
    "lines = file.read().splitlines()\n",
    "\n",
    "\n",
    "class V(namedtuple('V', ('x', 'y'))):\n",
    "    def __add__(self, other):\n",
    "        return V(self.x + other.x, self.y + other.y)       \n",
    "    \n",
    "    def __str__(self):\n",
    "        return \"[\"+str(self.x)+\":\"+str(self.y)+\"]\"\n",
    "\n",
    "class Blizard:\n",
    "    def __init__(self, positition, direction): #V, V\n",
    "        self.pos = positition\n",
    "        self.direction = direction\n",
    "        \n",
    "    def move(self, maxPos):\n",
    "        self.pos += self.direction\n",
    "        if self.pos.x > maxPos.x:\n",
    "            self.pos = V(1, self.pos.y)\n",
    "        elif self.pos.x < 1:\n",
    "            self.pos = V(maxPos.x, self.pos.y)\n",
    "        elif self.pos.y > maxPos.y:\n",
    "            self.pos = V(self.pos.x, 1)\n",
    "        elif self.pos.y < 1:\n",
    "            self.pos = V(self.pos.x, maxPos.y)\n",
    "        \n",
    "    def __str__(self):\n",
    "        return \"Pos: \" + str(self.pos) + \", direction: \" + str(self.direction)"
   ]
  },
  {
   "cell_type": "code",
   "execution_count": 123,
   "id": "405858fa",
   "metadata": {},
   "outputs": [],
   "source": [
    "maxPos = V(len(lines[0])-2, len(lines)-2)\n",
    "entrance = V(1,0)\n",
    "exit = maxPos + V(0,1)\n",
    "\n",
    "walls = [V(x,0) for x in range(maxPos.x+2)]\n",
    "walls += [V(x,maxPos.y+1) for x in range(maxPos.x+2)]\n",
    "walls += [V(0,y) for y in range(maxPos.y+2)]\n",
    "walls += [V(maxPos.x+1,y) for y in range(maxPos.y+2)]\n",
    "walls.remove(entrance)\n",
    "walls.remove(exit)\n",
    "walls.append(entrance + V(0,-1))\n",
    "walls.append(exit + V(0,1))\n",
    "\n",
    "blizzards = []\n",
    "for y, line in enumerate(lines):\n",
    "    for x, char in enumerate(line):\n",
    "        if char == '<':\n",
    "            blizzards.append(Blizard(V(x,y), V(-1,0)))\n",
    "        if char == '>':\n",
    "            blizzards.append(Blizard(V(x,y), V(1,0)))  \n",
    "        if char == 'v':\n",
    "            blizzards.append(Blizard(V(x,y), V(0,1)))\n",
    "        if char == '^':\n",
    "            blizzards.append(Blizard(V(x,y), V(0,-1)))                             \n",
    "\n",
    "blizzardsMap = [set([bl.pos for bl in blizzards] + walls)]\n",
    "for _ in range(1000):\n",
    "    for blizzard in blizzards:\n",
    "        blizzard.move(maxPos)\n",
    "    blizzardsMap.append(set([bl.pos for bl in blizzards] + walls))"
   ]
  },
  {
   "cell_type": "code",
   "execution_count": 124,
   "id": "bc279f8b",
   "metadata": {},
   "outputs": [
    {
     "name": "stdout",
     "output_type": "stream",
     "text": [
      "..........................................................................................................................................................................................................................................................................266\n",
      ".............................................................................................................................................................................................................................................................................................................567\n",
      "..............................................................................................................................................................................................................................................................................................853\n"
     ]
    }
   ],
   "source": [
    "queue = {entrance}\n",
    "#goals = [exit]\n",
    "goals = [exit, entrance, exit]\n",
    "minute = 0\n",
    "\n",
    "while len(goals) > 0:\n",
    "    minute += 1\n",
    "    print(\".\", end=\"\")\n",
    "    currentQueue = queue.copy()\n",
    "    queue.clear()\n",
    "    for ePos in currentQueue:\n",
    "        for direction in [V(0,0), V(0,1), V(0,-1), V(1,0), V(-1,0)]:\n",
    "            newEPos = ePos + direction\n",
    "            if newEPos == goals[0]:\n",
    "                print(minute)\n",
    "                queue = {goals.pop(0)}\n",
    "                break\n",
    "\n",
    "            if not newEPos in blizzardsMap[minute]:\n",
    "                    queue.add(newEPos)\n",
    "                    \n",
    "        else:\n",
    "            continue\n",
    "        break"
   ]
  }
 ],
 "metadata": {
  "kernelspec": {
   "display_name": "Python 3 (ipykernel)",
   "language": "python",
   "name": "python3"
  },
  "language_info": {
   "codemirror_mode": {
    "name": "ipython",
    "version": 3
   },
   "file_extension": ".py",
   "mimetype": "text/x-python",
   "name": "python",
   "nbconvert_exporter": "python",
   "pygments_lexer": "ipython3",
   "version": "3.9.6"
  }
 },
 "nbformat": 4,
 "nbformat_minor": 5
}

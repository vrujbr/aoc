{
 "cells": [
  {
   "cell_type": "code",
   "execution_count": 14,
   "id": "862ea4de",
   "metadata": {},
   "outputs": [],
   "source": [
    "file = open('input1_test', 'r')\n",
    "lines = file.read().splitlines()\n",
    "data = [int(line) for line in lines]"
   ]
  },
  {
   "cell_type": "code",
   "execution_count": 15,
   "id": "13d1457e",
   "metadata": {},
   "outputs": [
    {
     "name": "stdout",
     "output_type": "stream",
     "text": [
      "7\n"
     ]
    }
   ],
   "source": [
    "prevVal = float('inf')\n",
    "countIncreased = 0\n",
    "for measurement in data:\n",
    "    if measurement > prevVal:\n",
    "        countIncreased += 1\n",
    "    prevVal = measurement\n",
    "print(countIncreased)"
   ]
  },
  {
   "cell_type": "code",
   "execution_count": null,
   "id": "68ca2bea",
   "metadata": {},
   "outputs": [],
   "source": [
    "windows = []\n",
    "for i in range(len(lines)-2):    \n",
    "    window = data[i] + data[i+1] +\n",
    "    windows.append()"
   ]
  }
 ],
 "metadata": {
  "kernelspec": {
   "display_name": "Python 3 (ipykernel)",
   "language": "python",
   "name": "python3"
  },
  "language_info": {
   "codemirror_mode": {
    "name": "ipython",
    "version": 3
   },
   "file_extension": ".py",
   "mimetype": "text/x-python",
   "name": "python",
   "nbconvert_exporter": "python",
   "pygments_lexer": "ipython3",
   "version": "3.9.6"
  }
 },
 "nbformat": 4,
 "nbformat_minor": 5
}
